{
 "cells": [
  {
   "cell_type": "markdown",
   "id": "4561bcc4",
   "metadata": {},
   "source": [
    "# Python Data Types"
   ]
  },
  {
   "cell_type": "raw",
   "id": "47e95a1f",
   "metadata": {},
   "source": [
    "1) Numeric \n",
    "    i) integer\n",
    "    ii) floating point\n",
    "    iii) complex numbers\n",
    "2) Strings\n",
    "    i) Concatenation\n",
    "    ii) Slicing\n",
    "    iii) Repetition\n",
    "3) Tuple\n",
    "4) List\n",
    "5) Set\n",
    "6) Dictionary\n"
   ]
  },
  {
   "cell_type": "markdown",
   "id": "cb739485",
   "metadata": {},
   "source": [
    "# 1) Numeric"
   ]
  },
  {
   "cell_type": "markdown",
   "id": "2efa6e4a",
   "metadata": {},
   "source": [
    "   ### i) Integer"
   ]
  },
  {
   "cell_type": "markdown",
   "id": "7adc5ee3",
   "metadata": {},
   "source": [
    "* **An integer is a non fraction number that can be positve, negative and zero like, 1,2,3,100,1000,0,-1,-100,-1199, -9999**\n",
    "* **In python language integer is represented as a data type 'int'**\n",
    "* **there is no limit on how long the integer value is**\n",
    "\n",
    "* **int class tells the program that the given information/data is in integer from and act accordingly**\n",
    "* **FOR EXAMPLE 'int' SHOWS THAT WE CAN PERFOM NUMERIC OPERATIONS ON THE GIVEN DATA**\n",
    "* **NUMERIC OPERATION COULD BE +, -, x, OR /**"
   ]
  },
  {
   "cell_type": "code",
   "execution_count": 264,
   "id": "6182d1a8",
   "metadata": {},
   "outputs": [
    {
     "name": "stdout",
     "output_type": "stream",
     "text": [
      "124\n"
     ]
    }
   ],
   "source": [
    "print(124)"
   ]
  },
  {
   "cell_type": "code",
   "execution_count": 265,
   "id": "2f79d93e",
   "metadata": {},
   "outputs": [
    {
     "name": "stdout",
     "output_type": "stream",
     "text": [
      "193898938493974\n"
     ]
    }
   ],
   "source": [
    "print(193898938493974)"
   ]
  },
  {
   "cell_type": "code",
   "execution_count": 266,
   "id": "a2cc17b2",
   "metadata": {},
   "outputs": [
    {
     "name": "stdout",
     "output_type": "stream",
     "text": [
      "10000000000124\n"
     ]
    }
   ],
   "source": [
    "print(10000000000000 + 124)"
   ]
  },
  {
   "cell_type": "code",
   "execution_count": 267,
   "id": "b4a2b84e",
   "metadata": {},
   "outputs": [
    {
     "name": "stdout",
     "output_type": "stream",
     "text": [
      "1000000000000000000000000000000000000000000000000000000000000000000000000000001\n"
     ]
    }
   ],
   "source": [
    "print(1000000000000000000000000000000000000000000000000000000000000000000000000000000 + 1)"
   ]
  },
  {
   "cell_type": "code",
   "execution_count": 268,
   "id": "0dd17f45",
   "metadata": {},
   "outputs": [
    {
     "data": {
      "text/plain": [
       "int"
      ]
     },
     "execution_count": 268,
     "metadata": {},
     "output_type": "execute_result"
    }
   ],
   "source": [
    "type(10)"
   ]
  },
  {
   "cell_type": "markdown",
   "id": "1afd0ea5",
   "metadata": {},
   "source": [
    "* In Python Integers are represented by **'int'** class"
   ]
  },
  {
   "cell_type": "markdown",
   "id": "03e3f7a2",
   "metadata": {},
   "source": [
    "* Python can handle a platheora of integers (ofcourse it depends on the system memory)"
   ]
  },
  {
   "cell_type": "markdown",
   "id": "d29a39d5",
   "metadata": {},
   "source": [
    "### ii) Floating Point Numbers"
   ]
  },
  {
   "cell_type": "markdown",
   "id": "7ee72b49",
   "metadata": {},
   "source": [
    "****A float or floating point is a number with a decimal point****\n",
    "   * **Examples include 1.22,0.100,-9.8, -.19.98, 0.000001345 etc**\n",
    "   * **float tells the program that a given piece of information belongs to 'float' class and it has values with decimal point**\n",
    "   \n",
    "**Very small or very large values are often represented in scientific notation (e or E)**"
   ]
  },
  {
   "cell_type": "code",
   "execution_count": 269,
   "id": "eefa880a",
   "metadata": {},
   "outputs": [
    {
     "name": "stdout",
     "output_type": "stream",
     "text": [
      "1.29\n"
     ]
    }
   ],
   "source": [
    "print(1.29)"
   ]
  },
  {
   "cell_type": "code",
   "execution_count": 270,
   "id": "bbacef02",
   "metadata": {},
   "outputs": [
    {
     "name": "stdout",
     "output_type": "stream",
     "text": [
      "-11.98\n"
     ]
    }
   ],
   "source": [
    "print(-11.98)"
   ]
  },
  {
   "cell_type": "code",
   "execution_count": 271,
   "id": "036789ea",
   "metadata": {},
   "outputs": [
    {
     "name": "stdout",
     "output_type": "stream",
     "text": [
      "-0.99924\n"
     ]
    }
   ],
   "source": [
    "print(-0.99924)"
   ]
  },
  {
   "cell_type": "code",
   "execution_count": 272,
   "id": "0ecc86f9",
   "metadata": {},
   "outputs": [
    {
     "name": "stdout",
     "output_type": "stream",
     "text": [
      "0.1096\n"
     ]
    }
   ],
   "source": [
    "print(0.123 - 0.0134)"
   ]
  },
  {
   "cell_type": "code",
   "execution_count": 273,
   "id": "aa39608a",
   "metadata": {},
   "outputs": [
    {
     "name": "stdout",
     "output_type": "stream",
     "text": [
      "1.0898493248109808\n"
     ]
    }
   ],
   "source": [
    "print(0.08984932481098091858798259138401924097859822034839418388798798347242439847 + 1)"
   ]
  },
  {
   "cell_type": "code",
   "execution_count": 274,
   "id": "231c32ca",
   "metadata": {},
   "outputs": [
    {
     "name": "stdout",
     "output_type": "stream",
     "text": [
      "120000000.0\n"
     ]
    }
   ],
   "source": [
    "print(1.2e8)"
   ]
  },
  {
   "cell_type": "code",
   "execution_count": 275,
   "id": "42b4c16b",
   "metadata": {},
   "outputs": [
    {
     "name": "stdout",
     "output_type": "stream",
     "text": [
      "9.01920981821e-13\n"
     ]
    }
   ],
   "source": [
    "print(0.000000000000901920981821)"
   ]
  },
  {
   "cell_type": "code",
   "execution_count": 276,
   "id": "8f61093f",
   "metadata": {},
   "outputs": [
    {
     "name": "stdout",
     "output_type": "stream",
     "text": [
      "0.0012\n"
     ]
    }
   ],
   "source": [
    "print(1.2e-3)"
   ]
  },
  {
   "cell_type": "code",
   "execution_count": 277,
   "id": "de91f511",
   "metadata": {},
   "outputs": [
    {
     "name": "stdout",
     "output_type": "stream",
     "text": [
      "1.67e-19\n"
     ]
    }
   ],
   "source": [
    "print(0.000000000000000000167)  # Charge on an electron/proton "
   ]
  },
  {
   "cell_type": "code",
   "execution_count": 278,
   "id": "833cbd77",
   "metadata": {},
   "outputs": [
    {
     "name": "stdout",
     "output_type": "stream",
     "text": [
      "300000000.0\n"
     ]
    }
   ],
   "source": [
    "print(3e8)                     # Speed of light"
   ]
  },
  {
   "cell_type": "code",
   "execution_count": 279,
   "id": "a825c453",
   "metadata": {},
   "outputs": [
    {
     "data": {
      "text/plain": [
       "float"
      ]
     },
     "execution_count": 279,
     "metadata": {},
     "output_type": "execute_result"
    }
   ],
   "source": [
    "type(3.1415)"
   ]
  },
  {
   "cell_type": "markdown",
   "id": "462eb6dd",
   "metadata": {},
   "source": [
    "**In Python floating point numbers are represented by the class 'float'**"
   ]
  },
  {
   "cell_type": "markdown",
   "id": "5eca23bc",
   "metadata": {},
   "source": [
    "### iii) Complex Number"
   ]
  },
  {
   "cell_type": "markdown",
   "id": "1756c7e0",
   "metadata": {},
   "source": [
    "****Complex numbers are numbers that contain both real part and imaginary part****\n",
    "* **Examples include 8+3j where 8 is a real part and 3j is an imaginary part**\n",
    "* **Other examples include 1-5j, -1-2j, -23+33j etc**"
   ]
  },
  {
   "cell_type": "code",
   "execution_count": 280,
   "id": "f1e011e7",
   "metadata": {},
   "outputs": [
    {
     "name": "stdout",
     "output_type": "stream",
     "text": [
      "(8+3j)\n"
     ]
    }
   ],
   "source": [
    "print(8+3j)"
   ]
  },
  {
   "cell_type": "code",
   "execution_count": 281,
   "id": "1e953022",
   "metadata": {},
   "outputs": [
    {
     "name": "stdout",
     "output_type": "stream",
     "text": [
      "(1-5j)\n"
     ]
    }
   ],
   "source": [
    "print(1-5j)"
   ]
  },
  {
   "cell_type": "code",
   "execution_count": 282,
   "id": "bba94e81",
   "metadata": {},
   "outputs": [
    {
     "name": "stdout",
     "output_type": "stream",
     "text": [
      "(-1-2j)\n"
     ]
    }
   ],
   "source": [
    "print(-1-2j)"
   ]
  },
  {
   "cell_type": "code",
   "execution_count": 283,
   "id": "4386a306",
   "metadata": {},
   "outputs": [
    {
     "name": "stdout",
     "output_type": "stream",
     "text": [
      "(-23+33j)\n"
     ]
    }
   ],
   "source": [
    "print(-23+33j)"
   ]
  },
  {
   "cell_type": "code",
   "execution_count": 284,
   "id": "fac636ff",
   "metadata": {},
   "outputs": [
    {
     "data": {
      "text/plain": [
       "complex"
      ]
     },
     "execution_count": 284,
     "metadata": {},
     "output_type": "execute_result"
    }
   ],
   "source": [
    "type(8+3j)"
   ]
  },
  {
   "cell_type": "markdown",
   "id": "b3a287dc",
   "metadata": {},
   "source": [
    "* In python complex numbers are represented by the class 'complex' as shown above"
   ]
  },
  {
   "cell_type": "markdown",
   "id": "7ad9fb30",
   "metadata": {},
   "source": [
    "## 2) String"
   ]
  },
  {
   "attachments": {
    "string_example.webp": {
     "image/webp": "[encoded data removed]"
    }
   },
   "cell_type": "markdown",
   "id": "6be2ae92",
   "metadata": {},
   "source": [
    "![string_example.webp](attachment:string_example.webp)"
   ]
  },
  {
   "cell_type": "markdown",
   "id": "3bec3520",
   "metadata": {},
   "source": [
    "****String is a data type used to represent text data****\n",
    "                    * OR *\n",
    "* **We can say it is a sequence of characters**\n",
    "\n",
    "\n",
    "* ***There can be one or more characters in a string with signle quotation, double quotation and even triple quotation marks***\n",
    "\n"
   ]
  },
  {
   "cell_type": "code",
   "execution_count": 285,
   "id": "1f41baa4",
   "metadata": {},
   "outputs": [
    {
     "name": "stdout",
     "output_type": "stream",
     "text": [
      "a\n"
     ]
    }
   ],
   "source": [
    "print('a')"
   ]
  },
  {
   "cell_type": "code",
   "execution_count": 286,
   "id": "d3ed374e",
   "metadata": {},
   "outputs": [
    {
     "name": "stdout",
     "output_type": "stream",
     "text": [
      "a\n"
     ]
    }
   ],
   "source": [
    "print(\"a\")"
   ]
  },
  {
   "cell_type": "code",
   "execution_count": 287,
   "id": "d20e962a",
   "metadata": {},
   "outputs": [
    {
     "name": "stdout",
     "output_type": "stream",
     "text": [
      "a\n"
     ]
    }
   ],
   "source": [
    "print('''a''')"
   ]
  },
  {
   "cell_type": "code",
   "execution_count": 288,
   "id": "24e271d3",
   "metadata": {},
   "outputs": [
    {
     "name": "stdout",
     "output_type": "stream",
     "text": [
      "Hello Class!\n"
     ]
    }
   ],
   "source": [
    "print(\"Hello Class!\")"
   ]
  },
  {
   "cell_type": "code",
   "execution_count": 289,
   "id": "ba7f330c",
   "metadata": {},
   "outputs": [
    {
     "name": "stdout",
     "output_type": "stream",
     "text": [
      "My name is Sahibzada Salman, and I am your Artificial Intelligence instructor\n"
     ]
    }
   ],
   "source": [
    "print('My name is Sahibzada Salman, and I am your Artificial Intelligence instructor')"
   ]
  },
  {
   "cell_type": "code",
   "execution_count": 290,
   "id": "6ec6b716",
   "metadata": {},
   "outputs": [
    {
     "name": "stdout",
     "output_type": "stream",
     "text": [
      "So this is what a string is, it is a sequence of characters under the quotation marks. The characters can be anything ranging from simple letters to some strange looking charaters like / or  * or & or ^ or % etc\n"
     ]
    }
   ],
   "source": [
    "print('''So this is what a string is, it is a sequence of characters under the quotation marks. The characters can be anything ranging from simple letters to some strange looking charaters like / or  * or & or ^ or % etc''')"
   ]
  },
  {
   "cell_type": "code",
   "execution_count": 291,
   "id": "46cfc9f2",
   "metadata": {},
   "outputs": [
    {
     "data": {
      "text/plain": [
       "str"
      ]
     },
     "execution_count": 291,
     "metadata": {},
     "output_type": "execute_result"
    }
   ],
   "source": [
    "type('This is a string class :)')"
   ]
  },
  {
   "cell_type": "markdown",
   "id": "451d7c8e",
   "metadata": {},
   "source": [
    "* **In Python, the string is repsented by a class 'str'**\n",
    "\n",
    "* **Strings are IMMUTABLE means we cannot change the items in a string**"
   ]
  },
  {
   "cell_type": "markdown",
   "id": "f85f9b48",
   "metadata": {},
   "source": [
    "#### Operations in String"
   ]
  },
  {
   "cell_type": "markdown",
   "id": "89cc23fe",
   "metadata": {},
   "source": [
    "##### We can Perform Concatenation, Slicing and Repetition in Strings "
   ]
  },
  {
   "cell_type": "markdown",
   "id": "ddf9812d",
   "metadata": {},
   "source": [
    "#### i) Concatenation"
   ]
  },
  {
   "cell_type": "markdown",
   "id": "2c3793a8",
   "metadata": {},
   "source": [
    "* **Concatenation means joing two strings together**\n",
    "\n",
    "* *let's conocatenate two different strings together* "
   ]
  },
  {
   "cell_type": "code",
   "execution_count": 292,
   "id": "423cc652",
   "metadata": {},
   "outputs": [
    {
     "name": "stdout",
     "output_type": "stream",
     "text": [
      "Hello Class, this is an example of concatenation in strings!\n"
     ]
    }
   ],
   "source": [
    "print('Hello Class, ' + 'this is an example of concatenation in strings!')"
   ]
  },
  {
   "cell_type": "code",
   "execution_count": 293,
   "id": "157ac282",
   "metadata": {},
   "outputs": [
    {
     "name": "stdout",
     "output_type": "stream",
     "text": [
      "So, basically we are just adding two different strings here using a \"+\" operator\n"
     ]
    }
   ],
   "source": [
    "print('So, basically we are ' + 'just adding two different strings here using a \"+\" operator')"
   ]
  },
  {
   "cell_type": "code",
   "execution_count": 294,
   "id": "02239dac",
   "metadata": {},
   "outputs": [
    {
     "name": "stdout",
     "output_type": "stream",
     "text": [
      "Hello World!\n"
     ]
    }
   ],
   "source": [
    "print('Hello '  +  'World!')"
   ]
  },
  {
   "cell_type": "markdown",
   "id": "bb6fc43f",
   "metadata": {},
   "source": [
    "**This is how you can join two different strings**"
   ]
  },
  {
   "cell_type": "markdown",
   "id": "309b5164",
   "metadata": {},
   "source": [
    "#### ii) Slicing "
   ]
  },
  {
   "cell_type": "markdown",
   "id": "f7043b6d",
   "metadata": {},
   "source": [
    "**Slicing means cutting a string into different parts**\n",
    "\n",
    "   **OR**\n",
    "     \n",
    "**Extracting different parts of a string**"
   ]
  },
  {
   "cell_type": "code",
   "execution_count": 295,
   "id": "fb524bfe",
   "metadata": {
    "scrolled": true
   },
   "outputs": [
    {
     "name": "stdout",
     "output_type": "stream",
     "text": [
      "LANGUAGE\n"
     ]
    }
   ],
   "source": [
    "print('LANGUAGE')"
   ]
  },
  {
   "cell_type": "markdown",
   "id": "36e42e11",
   "metadata": {},
   "source": [
    "* *There are 8 different characters in this word*\n",
    "* *So let's extract the 3rd, 4th and the 5th letter from the string which are N, G and U*"
   ]
  },
  {
   "cell_type": "code",
   "execution_count": 296,
   "id": "26094a8d",
   "metadata": {},
   "outputs": [
    {
     "name": "stdout",
     "output_type": "stream",
     "text": [
      "NGU\n"
     ]
    }
   ],
   "source": [
    "print('LANGUAGE'[2:5])"
   ]
  },
  {
   "cell_type": "markdown",
   "id": "d188e5e2",
   "metadata": {},
   "source": [
    "#####  You Must Be Wondering Why Did We Selected The Range From [2:5], While We Wanted To Select The 3rd, 4th And The 5th Letter? It Should Have Been From [3:5]?"
   ]
  },
  {
   "cell_type": "markdown",
   "id": "3470dfda",
   "metadata": {},
   "source": [
    "**ANS:** **Because in Python the indexing starts from 0**\n",
    "\n",
    "*or*\n",
    "\n",
    "**We Can Say that Python Starts its counting from '0' not '1' :)**"
   ]
  },
  {
   "cell_type": "code",
   "execution_count": 297,
   "id": "e522caee",
   "metadata": {},
   "outputs": [
    {
     "name": "stdout",
     "output_type": "stream",
     "text": [
      "L\n"
     ]
    }
   ],
   "source": [
    "print('LANGUAGE'[0])"
   ]
  },
  {
   "cell_type": "code",
   "execution_count": 298,
   "id": "c2cd69d6",
   "metadata": {},
   "outputs": [
    {
     "name": "stdout",
     "output_type": "stream",
     "text": [
      "A\n"
     ]
    }
   ],
   "source": [
    "print('LANGUAGE'[1])"
   ]
  },
  {
   "cell_type": "code",
   "execution_count": 299,
   "id": "ca4d1c3c",
   "metadata": {},
   "outputs": [
    {
     "name": "stdout",
     "output_type": "stream",
     "text": [
      "N\n"
     ]
    }
   ],
   "source": [
    "print('LANGUAGE'[2])"
   ]
  },
  {
   "cell_type": "code",
   "execution_count": 300,
   "id": "1dacd7d5",
   "metadata": {},
   "outputs": [
    {
     "name": "stdout",
     "output_type": "stream",
     "text": [
      "G\n"
     ]
    }
   ],
   "source": [
    "print('LANGUAGE'[3])"
   ]
  },
  {
   "cell_type": "code",
   "execution_count": 301,
   "id": "4bd271fd",
   "metadata": {},
   "outputs": [
    {
     "name": "stdout",
     "output_type": "stream",
     "text": [
      "U\n"
     ]
    }
   ],
   "source": [
    "print('LANGUAGE'[4])"
   ]
  },
  {
   "cell_type": "code",
   "execution_count": 302,
   "id": "3e2b970e",
   "metadata": {},
   "outputs": [
    {
     "name": "stdout",
     "output_type": "stream",
     "text": [
      "A\n"
     ]
    }
   ],
   "source": [
    "print('LANGUAGE'[5])"
   ]
  },
  {
   "cell_type": "code",
   "execution_count": 303,
   "id": "d7585c65",
   "metadata": {},
   "outputs": [
    {
     "name": "stdout",
     "output_type": "stream",
     "text": [
      "G\n"
     ]
    }
   ],
   "source": [
    "print('LANGUAGE'[6])"
   ]
  },
  {
   "cell_type": "code",
   "execution_count": 304,
   "id": "6d8fbb0f",
   "metadata": {},
   "outputs": [
    {
     "name": "stdout",
     "output_type": "stream",
     "text": [
      "E\n"
     ]
    }
   ],
   "source": [
    "print('LANGUAGE'[7])"
   ]
  },
  {
   "cell_type": "markdown",
   "id": "de1edc59",
   "metadata": {},
   "source": [
    "**There are 8 characters in this string, but the last character is on no 7 position, becuase python starts counting from 0**"
   ]
  },
  {
   "cell_type": "markdown",
   "id": "3212eddf",
   "metadata": {},
   "source": [
    "#####  iii) Repetition"
   ]
  },
  {
   "cell_type": "markdown",
   "id": "157638fc",
   "metadata": {},
   "source": [
    "**Repetition means repeating a sequence or a string a certain number of times**"
   ]
  },
  {
   "cell_type": "code",
   "execution_count": 305,
   "id": "0b8bccc5",
   "metadata": {},
   "outputs": [
    {
     "name": "stdout",
     "output_type": "stream",
     "text": [
      "GO GO \n"
     ]
    }
   ],
   "source": [
    "print('GO '*2)"
   ]
  },
  {
   "cell_type": "code",
   "execution_count": 306,
   "id": "9705e8d0",
   "metadata": {},
   "outputs": [
    {
     "name": "stdout",
     "output_type": "stream",
     "text": [
      "GO GO GO GO \n"
     ]
    }
   ],
   "source": [
    "print('GO '*4)"
   ]
  },
  {
   "cell_type": "code",
   "execution_count": 307,
   "id": "77049b3c",
   "metadata": {},
   "outputs": [
    {
     "name": "stdout",
     "output_type": "stream",
     "text": [
      "Hey Hey Hey Hey Hey \n"
     ]
    }
   ],
   "source": [
    "print('Hey '*5)"
   ]
  },
  {
   "cell_type": "code",
   "execution_count": 308,
   "id": "912f574e",
   "metadata": {
    "scrolled": true
   },
   "outputs": [
    {
     "name": "stdout",
     "output_type": "stream",
     "text": [
      "etc. etc. etc. etc. etc. etc. etc. etc. etc. etc. \n"
     ]
    }
   ],
   "source": [
    "print('etc. '*10)"
   ]
  },
  {
   "cell_type": "markdown",
   "id": "0ddb4482",
   "metadata": {},
   "source": [
    "#### Including a special character as a part of string ?"
   ]
  },
  {
   "cell_type": "markdown",
   "id": "753b75fd",
   "metadata": {},
   "source": [
    "##### "
   ]
  },
  {
   "cell_type": "markdown",
   "id": "b7103cd6",
   "metadata": {},
   "source": [
    "let's try this one example "
   ]
  },
  {
   "cell_type": "code",
   "execution_count": 309,
   "id": "87067cbc",
   "metadata": {},
   "outputs": [
    {
     "ename": "SyntaxError",
     "evalue": "invalid syntax (<ipython-input-309-72027c80da4f>, line 1)",
     "output_type": "error",
     "traceback": [
      "\u001b[1;36m  File \u001b[1;32m\"<ipython-input-309-72027c80da4f>\"\u001b[1;36m, line \u001b[1;32m1\u001b[0m\n\u001b[1;33m    print('including a special character i.e single quote (') in this example.')\u001b[0m\n\u001b[1;37m                                                                      ^\u001b[0m\n\u001b[1;31mSyntaxError\u001b[0m\u001b[1;31m:\u001b[0m invalid syntax\n"
     ]
    }
   ],
   "source": [
    "print('including a special character i.e single quote (') in this example.')"
   ]
  },
  {
   "cell_type": "markdown",
   "id": "6e800a54",
   "metadata": {},
   "source": [
    "****Can any one explain why Python gave an error when we tried to include a quotation mark in our string?****"
   ]
  },
  {
   "cell_type": "markdown",
   "id": "740c3210",
   "metadata": {},
   "source": [
    "**There are 2 methods to tackle this error** "
   ]
  },
  {
   "cell_type": "markdown",
   "id": "44c442bc",
   "metadata": {},
   "source": [
    "#### a) Delimit the string with the other type, for example if you want to include a signle quote in your string, delimit it with double quotes and vice versa"
   ]
  },
  {
   "cell_type": "code",
   "execution_count": null,
   "id": "21d40d8f",
   "metadata": {},
   "outputs": [],
   "source": [
    "print(\"including a special character i.e signle quote (') in this example.  :p\")"
   ]
  },
  {
   "cell_type": "code",
   "execution_count": null,
   "id": "87ddb36a",
   "metadata": {},
   "outputs": [],
   "source": [
    "print('including a special character i.e double character (\") in this example. :p')"
   ]
  },
  {
   "cell_type": "markdown",
   "id": "9c9a7f63",
   "metadata": {},
   "source": [
    "#### b) Escape Sequences in the strings "
   ]
  },
  {
   "cell_type": "markdown",
   "id": "e4509c48",
   "metadata": {},
   "source": [
    "****Escape sequences are used to suppress the meaning of special characters****"
   ]
  },
  {
   "cell_type": "markdown",
   "id": "e619d3fc",
   "metadata": {},
   "source": [
    "* **For example, signle quote (') has a special meaning in python as they are used to define strings, In previous example we wanted to include a single quote as a part of our string but the Python gave error why? because in that sentence signle quote has a special meaning which is 'it terminates the string'**\n",
    "\n",
    "* That's why we use escape sequences as they suppress/bypass the special meaning of that character\n",
    "\n",
    "**In Python we use (\\\\) backslash in front of the quote character in a string to supress its special meaning**"
   ]
  },
  {
   "cell_type": "code",
   "execution_count": null,
   "id": "76d04d54",
   "metadata": {},
   "outputs": [],
   "source": [
    "print('including a special character i.e single quote (') in this example.')"
   ]
  },
  {
   "cell_type": "code",
   "execution_count": null,
   "id": "f8007697",
   "metadata": {},
   "outputs": [],
   "source": [
    "print('including a special character i.e single quote (\\') in this example.')"
   ]
  },
  {
   "cell_type": "code",
   "execution_count": null,
   "id": "83a23a73",
   "metadata": {},
   "outputs": [],
   "source": [
    "print('including a special character i.e single quote (\\') in this example.')"
   ]
  },
  {
   "cell_type": "markdown",
   "id": "545e31b7",
   "metadata": {},
   "source": [
    "*****Other escape sequences are*****\n",
    "* **\\\\' ----> suppress signle quote and considers it as a part of the string**\n",
    "* **\\\\\" ----> suppress double quote and considers it as a part of the string**\n",
    "* **\\ ----> Ignores the new line**\n",
    "* **\\\\t ----> used to add tab space**\n",
    "* **\\\\\\ ----> for single backlash**\n",
    "* **\\\\n ----> for new line"
   ]
  },
  {
   "cell_type": "markdown",
   "id": "add5c86e",
   "metadata": {},
   "source": [
    "****let's see an example of each****"
   ]
  },
  {
   "cell_type": "code",
   "execution_count": null,
   "id": "934c92cb",
   "metadata": {},
   "outputs": [],
   "source": [
    "print('including a special character i.e single quote (\\') in this example.')"
   ]
  },
  {
   "cell_type": "code",
   "execution_count": null,
   "id": "edacca45",
   "metadata": {},
   "outputs": [],
   "source": [
    "print('including a special character i.e single quote (\\') in this example.')"
   ]
  },
  {
   "cell_type": "code",
   "execution_count": null,
   "id": "b6227d8f",
   "metadata": {},
   "outputs": [],
   "source": [
    "print('This \\\n",
    "is \\\n",
    "an \\\n",
    "example \\\n",
    "of \\\n",
    "using \\\n",
    "escape \\\n",
    "sequence \\\n",
    "for \\\n",
    "ignoring \\\n",
    "new \\\n",
    "lines')"
   ]
  },
  {
   "cell_type": "code",
   "execution_count": null,
   "id": "f82c476e",
   "metadata": {},
   "outputs": [],
   "source": [
    "print('In order to ignore a escape character we have add another escape character :p Like in this example I used double backlashes (\\\\) in order to add single backlash')`"
   ]
  },
  {
   "cell_type": "code",
   "execution_count": null,
   "id": "c73a8639",
   "metadata": {},
   "outputs": [],
   "source": [
    "print('a\\\\b')"
   ]
  },
  {
   "cell_type": "code",
   "execution_count": null,
   "id": "31303441",
   "metadata": {},
   "outputs": [],
   "source": [
    "print('break\\\\fast')"
   ]
  },
  {
   "cell_type": "code",
   "execution_count": null,
   "id": "b4565064",
   "metadata": {},
   "outputs": [],
   "source": [
    "print('a')"
   ]
  },
  {
   "cell_type": "code",
   "execution_count": null,
   "id": "84791e45",
   "metadata": {},
   "outputs": [],
   "source": [
    "print('break\\tfast')"
   ]
  },
  {
   "cell_type": "code",
   "execution_count": null,
   "id": "93bce6a6",
   "metadata": {},
   "outputs": [],
   "source": [
    "b = \"Hello, World!\"\n",
    "print(b[:5])\n",
    "\n",
    "c = \"Hello, World!\"\n",
    "print(c[6])"
   ]
  },
  {
   "cell_type": "markdown",
   "id": "f8618db1",
   "metadata": {},
   "source": [
    "****Task No1****"
   ]
  },
  {
   "cell_type": "markdown",
   "id": "ce95813f",
   "metadata": {},
   "source": [
    "## 3) List  "
   ]
  },
  {
   "attachments": {
    "python-list-index.png": {
     "image/png": "[encoded data removed]"
    }
   },
   "cell_type": "markdown",
   "id": "81cca296",
   "metadata": {},
   "source": [
    "![python-list-index.png](attachment:python-list-index.png)"
   ]
  },
  {
   "cell_type": "markdown",
   "id": "d2c8d5c7",
   "metadata": {},
   "source": [
    "**List is a collection of different elements or items inside square brackets '[This, is, a, list, :)]' separated by commas**\n",
    "\n",
    "**A list can have elements of the same data type or even elemets of different types for example, a signle list can have integers, float and string items**\n",
    "\n",
    "**List  **"
   ]
  },
  {
   "cell_type": "code",
   "execution_count": null,
   "id": "2718ca0e",
   "metadata": {},
   "outputs": [],
   "source": [
    "print([1,2,3,4,5,6,7,8,9,10])  # a List of Integers"
   ]
  },
  {
   "cell_type": "code",
   "execution_count": null,
   "id": "fb4934b9",
   "metadata": {},
   "outputs": [],
   "source": [
    "print([1.1,2.2,3.3,4.4,5.5,6.6,7.7,8.8,9.9,10]) # a list of floating point numbers"
   ]
  },
  {
   "cell_type": "code",
   "execution_count": null,
   "id": "dc740ad3",
   "metadata": {},
   "outputs": [],
   "source": [
    "print([1+2j, -1+2j, -1-2j, 1-2j, -3-3j, 5-6j]) # a list of complex numbers "
   ]
  },
  {
   "cell_type": "code",
   "execution_count": null,
   "id": "14cdcddb",
   "metadata": {},
   "outputs": [],
   "source": [
    "print(['This', 'is', 'a', 'string', 'list']) # a list of strings"
   ]
  },
  {
   "cell_type": "code",
   "execution_count": null,
   "id": "65a63892",
   "metadata": {},
   "outputs": [],
   "source": [
    "print([1, 10, 100, 1.2, 2.3, 3.4, 1+1j, 2+2j, 3+3j, 'A list can have a combination of all the data types that we discussed'])"
   ]
  },
  {
   "cell_type": "markdown",
   "id": "380ebdaf",
   "metadata": {},
   "source": [
    "\n",
    "* **A list is MUTABLE, means we can change items in the list by simply using the slicing method (indexing)**\n",
    "\n",
    "* *Let's see an example below*"
   ]
  },
  {
   "cell_type": "code",
   "execution_count": null,
   "id": "abf8b2b0",
   "metadata": {},
   "outputs": [],
   "source": [
    "print([1,2,-3, -4, 2.3, -4.5, 1+3j, 'string'])"
   ]
  },
  {
   "cell_type": "markdown",
   "id": "a70a2626",
   "metadata": {},
   "source": [
    "**There are 8 items in this list, let's access each element one by one**"
   ]
  },
  {
   "cell_type": "code",
   "execution_count": null,
   "id": "0f549775",
   "metadata": {},
   "outputs": [],
   "source": [
    "print([1,2,-3, -4, 2.3, -4.5, 1+3j, 'string'][0])"
   ]
  },
  {
   "cell_type": "code",
   "execution_count": null,
   "id": "c5cb4058",
   "metadata": {},
   "outputs": [],
   "source": [
    "print([1,2,-3, -4, 2.3, -4.5, 1+3j, 'string'][1])"
   ]
  },
  {
   "cell_type": "code",
   "execution_count": null,
   "id": "939fa5fd",
   "metadata": {},
   "outputs": [],
   "source": [
    "print([1,2,-3, -4, 2.3, -4.5, 1+3j, 'string'][2])"
   ]
  },
  {
   "cell_type": "code",
   "execution_count": null,
   "id": "c03f9fd5",
   "metadata": {},
   "outputs": [],
   "source": [
    "print([1,2,-3, -4, 2.3, -4.5, 1+3j, 'string'][3])"
   ]
  },
  {
   "cell_type": "code",
   "execution_count": null,
   "id": "7d98ec5d",
   "metadata": {},
   "outputs": [],
   "source": [
    "print([1,2,-3, -4, 2.3, -4.5, 1+3j, 'string'][4])"
   ]
  },
  {
   "cell_type": "code",
   "execution_count": null,
   "id": "60766a29",
   "metadata": {},
   "outputs": [],
   "source": [
    "print([1,2,-3, -4, 2.3, -4.5, 1+3j, 'string'][5])"
   ]
  },
  {
   "cell_type": "code",
   "execution_count": null,
   "id": "840b36a6",
   "metadata": {},
   "outputs": [],
   "source": [
    "print([1,2,-3, -4, 2.3, -4.5, 1+3j, 'string'][6])"
   ]
  },
  {
   "cell_type": "code",
   "execution_count": null,
   "id": "a246cffc",
   "metadata": {},
   "outputs": [],
   "source": [
    "print([1,2,-3, -4, 2.3, -4.5, 1+3j, 'string'][7])"
   ]
  },
  {
   "cell_type": "markdown",
   "id": "08a7eb95",
   "metadata": {},
   "source": [
    "**Let's access first 3 items at the same time**"
   ]
  },
  {
   "cell_type": "code",
   "execution_count": null,
   "id": "9ef8ac46",
   "metadata": {},
   "outputs": [],
   "source": [
    "print([1,2,-3, -4, 2.3, -4.5, 1+3j, 'string'][0:3]) "
   ]
  },
  {
   "cell_type": "markdown",
   "id": "94639605",
   "metadata": {},
   "source": [
    "**Now, let's access the last 3 items from the list**"
   ]
  },
  {
   "cell_type": "code",
   "execution_count": null,
   "id": "e8cdb09d",
   "metadata": {},
   "outputs": [],
   "source": [
    "print([1,2,-3, -4, 2.3, -4.5, 1+3j, 'string'][4:7])"
   ]
  },
  {
   "cell_type": "markdown",
   "id": "a31c4043",
   "metadata": {},
   "source": [
    "***We can also replace an element in the list***"
   ]
  },
  {
   "cell_type": "code",
   "execution_count": null,
   "id": "79eb3cc6",
   "metadata": {},
   "outputs": [],
   "source": [
    "listt = [1,2,-3, -4, 2.3, -4.5, 1+3j, 'string']\n",
    "print(listt[0:7])"
   ]
  },
  {
   "cell_type": "code",
   "execution_count": null,
   "id": "20161d89",
   "metadata": {},
   "outputs": [],
   "source": [
    "listt[3] = \"replacing the previously placed element (-4) with this sentence :p\"\n",
    "print(listt)"
   ]
  },
  {
   "cell_type": "code",
   "execution_count": null,
   "id": "13af9f49",
   "metadata": {},
   "outputs": [],
   "source": [
    "type(listt)"
   ]
  },
  {
   "cell_type": "code",
   "execution_count": null,
   "id": "41b7e2f8",
   "metadata": {},
   "outputs": [],
   "source": [
    "lst = ['Physics', 'Chemistry', 'Boiology', 'Mathematics']\n",
    "print(lst)"
   ]
  },
  {
   "cell_type": "markdown",
   "id": "8e18c8ec",
   "metadata": {},
   "source": [
    "**Negative Indexing**"
   ]
  },
  {
   "cell_type": "code",
   "execution_count": null,
   "id": "d1a9c068",
   "metadata": {},
   "outputs": [],
   "source": [
    "lst[-1]"
   ]
  },
  {
   "cell_type": "code",
   "execution_count": null,
   "id": "11f5b385",
   "metadata": {},
   "outputs": [],
   "source": [
    "lst[-2]"
   ]
  },
  {
   "cell_type": "code",
   "execution_count": null,
   "id": "97b057ef",
   "metadata": {},
   "outputs": [],
   "source": [
    "lst[-3]"
   ]
  },
  {
   "cell_type": "markdown",
   "id": "4dca7007",
   "metadata": {},
   "source": [
    "## Adding an element in a list"
   ]
  },
  {
   "cell_type": "code",
   "execution_count": null,
   "id": "e61ac741",
   "metadata": {},
   "outputs": [],
   "source": [
    "lst = ['Physics', 'Chemistry', 'Boiology', 'Mathematics']\n",
    "print(lst)"
   ]
  },
  {
   "cell_type": "markdown",
   "id": "f555868c",
   "metadata": {},
   "source": [
    "****If you want to add another item at the end of list we can do that using \".append\" function****"
   ]
  },
  {
   "cell_type": "code",
   "execution_count": null,
   "id": "e1e957ba",
   "metadata": {},
   "outputs": [],
   "source": [
    "lst.append('English')\n",
    "print(lst)"
   ]
  },
  {
   "cell_type": "markdown",
   "id": "a2f7b9d8",
   "metadata": {},
   "source": [
    "****What if we want to add an item at a perticular position, what will we do then? We'll use \".insert\" function****"
   ]
  },
  {
   "cell_type": "code",
   "execution_count": null,
   "id": "4cef792d",
   "metadata": {},
   "outputs": [],
   "source": [
    "lst.insert(2, 'Astronomy')\n",
    "lst"
   ]
  },
  {
   "cell_type": "markdown",
   "id": "0cabd781",
   "metadata": {},
   "source": [
    "**What if we join two lists together**"
   ]
  },
  {
   "cell_type": "code",
   "execution_count": null,
   "id": "9d27d113",
   "metadata": {
    "scrolled": true
   },
   "outputs": [],
   "source": [
    "Science = ['Physics', 'Chemistry', 'Biology', 'Mathematics']\n",
    "Compuls = ['English', 'Urdu', 'Pak-Studies', 'Islamiyat']\n",
    "print(Science)\n",
    "print(Compuls)"
   ]
  },
  {
   "cell_type": "code",
   "execution_count": null,
   "id": "fca39f8e",
   "metadata": {},
   "outputs": [],
   "source": [
    "subjects = Science + Compuls\n",
    "print(subjects)"
   ]
  },
  {
   "cell_type": "code",
   "execution_count": null,
   "id": "38cd3ba8",
   "metadata": {},
   "outputs": [],
   "source": [
    "Science = ['Physics', 'Chemistry', 'Biology', 'Mathematics']\n",
    "Compuls = ['English', 'Urdu', 'Pak Studies', 'Islamiyat','Social Studies']\n",
    "print(Science)\n",
    "print(Compuls)\n",
    "subjects = Science + Compuls\n",
    "print(subjects)"
   ]
  },
  {
   "cell_type": "markdown",
   "id": "77df824a",
   "metadata": {},
   "source": [
    "## Removing an element from a list"
   ]
  },
  {
   "cell_type": "markdown",
   "id": "50b0b3ab",
   "metadata": {},
   "source": [
    "****To remove an item from a list we use pop() fucntion or del keyword****"
   ]
  },
  {
   "cell_type": "code",
   "execution_count": null,
   "id": "0d662de1",
   "metadata": {},
   "outputs": [],
   "source": [
    "print(subjects)"
   ]
  },
  {
   "cell_type": "markdown",
   "id": "cb7ff6c9",
   "metadata": {},
   "source": [
    "#### pop() function\n",
    "***To remove an item from a list we use the index number of that item***"
   ]
  },
  {
   "cell_type": "code",
   "execution_count": null,
   "id": "e5815c36",
   "metadata": {},
   "outputs": [],
   "source": [
    "subjects.pop(3)\n",
    "print(subjects)"
   ]
  },
  {
   "cell_type": "markdown",
   "id": "a2f7b077",
   "metadata": {},
   "source": [
    "****If we don't specify the position of the item, pop() funciton automatically removes the last element from the list****"
   ]
  },
  {
   "cell_type": "code",
   "execution_count": null,
   "id": "fdd0fb15",
   "metadata": {},
   "outputs": [],
   "source": [
    "print(subjects)\n",
    "subjects.pop()\n",
    "print(subjects)"
   ]
  },
  {
   "cell_type": "markdown",
   "id": "18b2b7b0",
   "metadata": {},
   "source": [
    "#### del keyword"
   ]
  },
  {
   "cell_type": "markdown",
   "id": "34ec9a9c",
   "metadata": {},
   "source": [
    "****del keyword also removes an item from a list using specified index number****"
   ]
  },
  {
   "cell_type": "code",
   "execution_count": null,
   "id": "c85093d8",
   "metadata": {},
   "outputs": [],
   "source": [
    "print(subjects)\n",
    "del subjects[2]\n",
    "print(subjects)"
   ]
  },
  {
   "cell_type": "code",
   "execution_count": null,
   "id": "b7fe4b69",
   "metadata": {},
   "outputs": [],
   "source": [
    "print(subjects)\n",
    "del subjects\n",
    "print(subjects)"
   ]
  },
  {
   "cell_type": "markdown",
   "id": "06f81b13",
   "metadata": {},
   "source": [
    "**To find how many items we have in the list**\n",
    "**We use ( len() ) function to determine the length of a list**"
   ]
  },
  {
   "cell_type": "code",
   "execution_count": null,
   "id": "a77c82d4",
   "metadata": {},
   "outputs": [],
   "source": [
    "print(len(Science))\n",
    "print(len(Compuls))"
   ]
  },
  {
   "cell_type": "markdown",
   "id": "001da3e7",
   "metadata": {},
   "source": [
    "##### How to find an item in a list?"
   ]
  },
  {
   "cell_type": "markdown",
   "id": "5cee5809",
   "metadata": {},
   "source": [
    "***We use item in list method***"
   ]
  },
  {
   "cell_type": "code",
   "execution_count": null,
   "id": "b728a2b4",
   "metadata": {},
   "outputs": [],
   "source": [
    "'Mathematics' in Science"
   ]
  },
  {
   "cell_type": "code",
   "execution_count": null,
   "id": "c60b7b9e",
   "metadata": {},
   "outputs": [],
   "source": [
    "'Islamiyat' in Compuls"
   ]
  },
  {
   "cell_type": "code",
   "execution_count": null,
   "id": "7806f491",
   "metadata": {},
   "outputs": [],
   "source": [
    "'Astronomy' in Science "
   ]
  },
  {
   "cell_type": "code",
   "execution_count": null,
   "id": "f2cbf5ac",
   "metadata": {},
   "outputs": [],
   "source": [
    "'Social-Studies' in Compuls"
   ]
  },
  {
   "cell_type": "markdown",
   "id": "3b20d355",
   "metadata": {},
   "source": [
    "## Reversing a list"
   ]
  },
  {
   "cell_type": "markdown",
   "id": "cb80e7d1",
   "metadata": {},
   "source": [
    "****We can use slicing operator to reverse a list****"
   ]
  },
  {
   "cell_type": "code",
   "execution_count": null,
   "id": "b5d76a64",
   "metadata": {},
   "outputs": [],
   "source": [
    "newList = [1,2,2.2,4.5,2-5j,'reverse','list']\n",
    "print('Our list: ',newList)\n",
    "reverseList = newList[::-1]\n",
    "print('Reversed list: ', reverseList)"
   ]
  },
  {
   "cell_type": "code",
   "execution_count": null,
   "id": "4a18dc0e",
   "metadata": {},
   "outputs": [],
   "source": [
    "print(type(newList))"
   ]
  },
  {
   "cell_type": "markdown",
   "id": "31ce8f6b",
   "metadata": {},
   "source": [
    "****In Python a list is represented by a \"list\" class****"
   ]
  },
  {
   "cell_type": "markdown",
   "id": "cd35a7f3",
   "metadata": {},
   "source": [
    "## 4) Tuple"
   ]
  },
  {
   "cell_type": "markdown",
   "id": "1ed273a1",
   "metadata": {},
   "source": [
    "**A tuple is a data type used to store multiple items in a single variable**\n",
    "\n",
    "***A tuple is a collection of items which are ordered and unchangable***\n",
    "\n",
    "****The only differnece between a tuple and a list is that lists are mutable while tuples are not****\n",
    "\n",
    "\n",
    "**Tuples are identified by paranthesis ()**"
   ]
  },
  {
   "attachments": {
    "python-tuple.jpg": {
     "image/jpeg": "[encoded data removed]"
    }
   },
   "cell_type": "markdown",
   "id": "a7a91053",
   "metadata": {},
   "source": [
    "![python-tuple.jpg](attachment:python-tuple.jpg)"
   ]
  },
  {
   "cell_type": "code",
   "execution_count": null,
   "id": "21459015",
   "metadata": {},
   "outputs": [],
   "source": [
    "print((1,2.3,1-3j,'This is an example of tuple'))"
   ]
  },
  {
   "cell_type": "code",
   "execution_count": null,
   "id": "f2e6f7e5",
   "metadata": {},
   "outputs": [],
   "source": [
    "type((1,2.3,1-3j,'This is an example of tuple'))"
   ]
  },
  {
   "cell_type": "markdown",
   "id": "bb40b056",
   "metadata": {},
   "source": [
    "**We can only access the items in a tuple but not change/replace**"
   ]
  },
  {
   "cell_type": "code",
   "execution_count": null,
   "id": "6729897c",
   "metadata": {},
   "outputs": [],
   "source": [
    "print((1,2.3,1-3j,'This is an example of tuple')[0])"
   ]
  },
  {
   "cell_type": "code",
   "execution_count": null,
   "id": "f8d8450e",
   "metadata": {},
   "outputs": [],
   "source": [
    "print((1,2.3,1-3j,'This is an example of tuple')[1])"
   ]
  },
  {
   "cell_type": "code",
   "execution_count": null,
   "id": "209d5b8b",
   "metadata": {},
   "outputs": [],
   "source": [
    "print((1,2.3,1-3j,'This is an example of tuple')[2])"
   ]
  },
  {
   "cell_type": "code",
   "execution_count": null,
   "id": "22bc97f2",
   "metadata": {},
   "outputs": [],
   "source": [
    "print((1,2.3,1-3j,'This is an example of tuple')[3])"
   ]
  },
  {
   "cell_type": "code",
   "execution_count": null,
   "id": "db3a8d22",
   "metadata": {},
   "outputs": [],
   "source": [
    "print((1,2.3,1-3j,'This is an example of tuple')[0:2])"
   ]
  },
  {
   "cell_type": "code",
   "execution_count": null,
   "id": "54ce0a1e",
   "metadata": {},
   "outputs": [],
   "source": [
    "print((1,2.3,1-3j,'This is an example of tuple')[2:4])"
   ]
  },
  {
   "cell_type": "markdown",
   "id": "1cc1b8a3",
   "metadata": {},
   "source": [
    "## 5) Sets"
   ]
  },
  {
   "cell_type": "markdown",
   "id": "acfe2155",
   "metadata": {},
   "source": [
    "* **A set is an unordered collection of items**\n",
    "\n",
    "* **A set can contain only UNIQUE items means no repetition of the same element**\n",
    "\n",
    "* **There is no indexing in Sets as all the items are unordered and are unique**\n",
    "\n",
    "* **A set is MUTABLE but since there is no order we cannot use slicing/indexing to change the items**\n",
    "\n",
    "* **A Set is identified/represented by curly braceks or braces { }**"
   ]
  },
  {
   "attachments": {
    "python-sets.jpg": {
     "image/jpeg": "[encoded data removed]"
    }
   },
   "cell_type": "markdown",
   "id": "1d73d038",
   "metadata": {},
   "source": [
    "![python-sets.jpg](attachment:python-sets.jpg)"
   ]
  },
  {
   "cell_type": "markdown",
   "id": "1734cf69",
   "metadata": {},
   "source": [
    "### No Order"
   ]
  },
  {
   "cell_type": "code",
   "execution_count": null,
   "id": "7fa43ec8",
   "metadata": {},
   "outputs": [],
   "source": [
    "set_1 = {3,1.22,2.3,3+5j, \"this is a set\"}\n",
    "print(set_1)"
   ]
  },
  {
   "cell_type": "markdown",
   "id": "6eb1eee8",
   "metadata": {},
   "source": [
    "****Note that the order of our items in the set is changed the moment we executed the code, meaning 'A Set does not maintain the order of the data'****"
   ]
  },
  {
   "cell_type": "markdown",
   "id": "f5cae797",
   "metadata": {},
   "source": [
    "### No Repetition"
   ]
  },
  {
   "cell_type": "code",
   "execution_count": null,
   "id": "0961cbf4",
   "metadata": {},
   "outputs": [],
   "source": [
    "set_2 = {1,1,1,3,3,-6,-7,-8,-8,9,-9,10,11.11,12.2,12.3,15,13.9,'This is an example of a Set'}\n",
    "print(set_2)"
   ]
  },
  {
   "cell_type": "markdown",
   "id": "b4580266",
   "metadata": {},
   "source": [
    "**Note that we had repeated items in the above example but Sets do not allow repetition**"
   ]
  },
  {
   "cell_type": "markdown",
   "id": "b61ac628",
   "metadata": {},
   "source": [
    "### No Indexing"
   ]
  },
  {
   "cell_type": "code",
   "execution_count": null,
   "id": "04ee15e0",
   "metadata": {},
   "outputs": [],
   "source": [
    "set_3 = {1,2.3,1-3j,'There is no indexing in the SETS'}\n",
    "print(set_3[0])"
   ]
  },
  {
   "cell_type": "markdown",
   "id": "b8c23b52",
   "metadata": {},
   "source": [
    "### Multiple Data types as Elements in a Set"
   ]
  },
  {
   "cell_type": "markdown",
   "id": "b5d09534",
   "metadata": {},
   "source": [
    "****Set allows multiple datatypes as elements like in the example below we have have added a tuple as an element****"
   ]
  },
  {
   "cell_type": "code",
   "execution_count": null,
   "id": "80e1e6cc",
   "metadata": {},
   "outputs": [],
   "source": [
    "set_4 = {1,2.3,1-3j,'This is a set', (1, 2.3, 3-5j, 'tuple')}\n",
    "print(set_4)"
   ]
  },
  {
   "cell_type": "markdown",
   "id": "3ead4812",
   "metadata": {},
   "source": [
    "### No Mutable Data types as Elements!"
   ]
  },
  {
   "cell_type": "markdown",
   "id": "1de06635",
   "metadata": {},
   "source": [
    "****Set does not allow mutable datatypes like \"lists\"****"
   ]
  },
  {
   "cell_type": "code",
   "execution_count": null,
   "id": "60b1b1ed",
   "metadata": {
    "scrolled": true
   },
   "outputs": [],
   "source": [
    "set_5 = {1,2.3,1-3j,'This is a set', [1, 2.3, 3-5j, 'list']}\n",
    "print(set_5)"
   ]
  },
  {
   "cell_type": "markdown",
   "id": "f71de00a",
   "metadata": {},
   "source": [
    "### Sets are Mutable!"
   ]
  },
  {
   "cell_type": "markdown",
   "id": "cce0b6b0",
   "metadata": {},
   "source": [
    "****Sets are MUTABLE! but we cannot use slicing or indexing method to access or change the items****\n",
    "\n",
    "****To add a single item in a set we use add() function****\n",
    "\n",
    "****To add multiple items in a set we use update() function****\n"
   ]
  },
  {
   "cell_type": "code",
   "execution_count": 310,
   "id": "c071811e",
   "metadata": {},
   "outputs": [
    {
     "name": "stdout",
     "output_type": "stream",
     "text": [
      "{1, 2.2, 'God Zilla', (3-1j)}\n",
      "{1, 2.2, 'God Zilla', 14, (3-1j)}\n"
     ]
    }
   ],
   "source": [
    "m_set = {1,2.2,3-1j,'God Zilla'}\n",
    "print(m_set)\n",
    "\n",
    "m_set.add(14)\n",
    "print(m_set)"
   ]
  },
  {
   "cell_type": "code",
   "execution_count": 311,
   "id": "11a717e7",
   "metadata": {},
   "outputs": [
    {
     "name": "stdout",
     "output_type": "stream",
     "text": [
      "{'GodZilla', 1, 2.2, (3-1j)}\n",
      "{'GodZilla', 1, 2.2, 'Doraemon', 14, 'Nobita', 23, (3-1j)}\n"
     ]
    }
   ],
   "source": [
    "m_set1 = {1,2.2,3-1j,'GodZilla'}\n",
    "print(m_set1)\n",
    "\n",
    "m_set1.update([23,14,'Doraemon', 'Nobita'])\n",
    "print(m_set1)"
   ]
  },
  {
   "cell_type": "markdown",
   "id": "c9793f85",
   "metadata": {},
   "source": [
    "****We can use all datatypes whether mutable or immutable while updating a set****"
   ]
  },
  {
   "cell_type": "code",
   "execution_count": 312,
   "id": "33ca4437",
   "metadata": {},
   "outputs": [
    {
     "name": "stdout",
     "output_type": "stream",
     "text": [
      "{'GodZilla', 1, 2.2, (3-1j)}\n",
      "{'GodZilla', 1, 2.2, 'Doraemon', 'Sonyo', 12, 13, 'Shizuka', 14, 15, 16, 'Nobita', 'Gian', (3-1j)}\n"
     ]
    }
   ],
   "source": [
    "m_set2 = {1,2.2,3-1j,'GodZilla'}\n",
    "print(m_set2)\n",
    "m_list = [12,13,'Doraemon', 'Gian']\n",
    "m_tuple = ('Shizuka','Nobita', 14, 15)\n",
    "m_set = {12,13,14,16,'Sonyo'}\n",
    "m_set2.update(m_list, m_tuple, m_set)\n",
    "print(m_set2)"
   ]
  },
  {
   "cell_type": "markdown",
   "id": "da951342",
   "metadata": {},
   "source": [
    "### Removing Items from A Set"
   ]
  },
  {
   "cell_type": "markdown",
   "id": "a7cc5a26",
   "metadata": {},
   "source": [
    "****We can use either discard() function or remove() fucntion to remove an item from a list****\n",
    "\n",
    "****The only difference remove() function will give an error if an item is not present in a set while discard() function will not****"
   ]
  },
  {
   "cell_type": "markdown",
   "id": "905b05fa",
   "metadata": {},
   "source": [
    "#### discard()"
   ]
  },
  {
   "cell_type": "code",
   "execution_count": 313,
   "id": "213ce7bf",
   "metadata": {},
   "outputs": [
    {
     "name": "stdout",
     "output_type": "stream",
     "text": [
      "{'GodZilla', 1, 2.2, 'Doraemon', 'Sonyo', 12, 13, 'Shizuka', 14, 15, 16, 'Nobita', 'Gian', (3-1j)}\n",
      "{1, 2.2, 'Doraemon', 'Sonyo', 12, 13, 'Shizuka', 14, 15, 16, 'Nobita', 'Gian', (3-1j)}\n"
     ]
    }
   ],
   "source": [
    "print(m_set2)\n",
    "m_set2.discard('GodZilla')\n",
    "\n",
    "print(m_set2)"
   ]
  },
  {
   "cell_type": "code",
   "execution_count": 314,
   "id": "d1b14e4a",
   "metadata": {
    "scrolled": true
   },
   "outputs": [
    {
     "name": "stdout",
     "output_type": "stream",
     "text": [
      "{1, 2.2, 'Doraemon', 'Sonyo', 12, 13, 'Shizuka', 14, 15, 16, 'Nobita', 'Gian', (3-1j)}\n",
      "{1, 2.2, 'Doraemon', 'Sonyo', 12, 13, 'Shizuka', 14, 15, 16, 'Nobita', 'Gian'}\n"
     ]
    }
   ],
   "source": [
    "print(m_set2)\n",
    "m_set2.discard(3-1j)\n",
    "\n",
    "print(m_set2)"
   ]
  },
  {
   "cell_type": "markdown",
   "id": "fd4f5767",
   "metadata": {},
   "source": [
    "#### remove()"
   ]
  },
  {
   "cell_type": "code",
   "execution_count": 315,
   "id": "5520662f",
   "metadata": {},
   "outputs": [
    {
     "name": "stdout",
     "output_type": "stream",
     "text": [
      "{1, 2.2, 'Doraemon', 'Sonyo', 12, 13, 'Shizuka', 14, 15, 16, 'Nobita', 'Gian'}\n",
      "{1, 'Doraemon', 'Sonyo', 12, 13, 'Shizuka', 14, 15, 16, 'Nobita', 'Gian'}\n"
     ]
    }
   ],
   "source": [
    "print(m_set2)\n",
    "m_set2.remove(2.2)\n",
    "\n",
    "print(m_set2)"
   ]
  },
  {
   "cell_type": "code",
   "execution_count": 316,
   "id": "7d48adc8",
   "metadata": {},
   "outputs": [
    {
     "name": "stdout",
     "output_type": "stream",
     "text": [
      "{1, 'Doraemon', 'Sonyo', 12, 13, 'Shizuka', 14, 15, 16, 'Nobita', 'Gian'}\n"
     ]
    },
    {
     "ename": "KeyError",
     "evalue": "'GodZilla'",
     "output_type": "error",
     "traceback": [
      "\u001b[1;31m---------------------------------------------------------------------------\u001b[0m",
      "\u001b[1;31mKeyError\u001b[0m                                  Traceback (most recent call last)",
      "\u001b[1;32m<ipython-input-316-18714e504b60>\u001b[0m in \u001b[0;36m<module>\u001b[1;34m\u001b[0m\n\u001b[0;32m      1\u001b[0m \u001b[0mprint\u001b[0m\u001b[1;33m(\u001b[0m\u001b[0mm_set2\u001b[0m\u001b[1;33m)\u001b[0m\u001b[1;33m\u001b[0m\u001b[1;33m\u001b[0m\u001b[0m\n\u001b[1;32m----> 2\u001b[1;33m \u001b[0mm_set2\u001b[0m\u001b[1;33m.\u001b[0m\u001b[0mremove\u001b[0m\u001b[1;33m(\u001b[0m\u001b[1;34m'GodZilla'\u001b[0m\u001b[1;33m)\u001b[0m\u001b[1;33m\u001b[0m\u001b[1;33m\u001b[0m\u001b[0m\n\u001b[0m\u001b[0;32m      3\u001b[0m \u001b[1;33m\u001b[0m\u001b[0m\n\u001b[0;32m      4\u001b[0m \u001b[0mprint\u001b[0m\u001b[1;33m(\u001b[0m\u001b[0mm_set2\u001b[0m\u001b[1;33m)\u001b[0m\u001b[1;33m\u001b[0m\u001b[1;33m\u001b[0m\u001b[0m\n",
      "\u001b[1;31mKeyError\u001b[0m: 'GodZilla'"
     ]
    }
   ],
   "source": [
    "print(m_set2)\n",
    "m_set2.remove('GodZilla')\n",
    "\n",
    "print(m_set2)"
   ]
  },
  {
   "cell_type": "markdown",
   "id": "25b7b924",
   "metadata": {},
   "source": [
    "#### clear()"
   ]
  },
  {
   "cell_type": "markdown",
   "id": "05202eed",
   "metadata": {},
   "source": [
    "****clear() function is used to remove all the items from a given set****"
   ]
  },
  {
   "cell_type": "markdown",
   "id": "c26879d2",
   "metadata": {},
   "source": [
    "### Operations in Sets"
   ]
  },
  {
   "cell_type": "markdown",
   "id": "f4412792",
   "metadata": {},
   "source": [
    "### i) AUB"
   ]
  },
  {
   "attachments": {
    "AUB_1.jpg": {
     "image/jpeg": "[encoded data removed]"
    }
   },
   "cell_type": "markdown",
   "id": "c2db4746",
   "metadata": {},
   "source": [
    "![AUB_1.jpg](attachment:AUB_1.jpg)"
   ]
  },
  {
   "cell_type": "markdown",
   "id": "f0616ac6",
   "metadata": {},
   "source": [
    "****AUB, A Union B is basically a merger of two different sets****"
   ]
  },
  {
   "cell_type": "markdown",
   "id": "f4c5c3ba",
   "metadata": {},
   "source": [
    "****We can either use \" | \" operator or union() function to merge two different sets****"
   ]
  },
  {
   "cell_type": "raw",
   "id": "bfa5898b",
   "metadata": {},
   "source": [
    "A = {1, 2.22, 1-2j, 'Sets'}\n",
    "B = {2, 3.3, -1+2j, 'Union'}\n",
    "C = A | B\n",
    "print(C)"
   ]
  },
  {
   "cell_type": "code",
   "execution_count": null,
   "id": "7c75b8cb",
   "metadata": {},
   "outputs": [],
   "source": [
    "print(A.union(B))"
   ]
  },
  {
   "cell_type": "code",
   "execution_count": null,
   "id": "fa157d67",
   "metadata": {},
   "outputs": [],
   "source": [
    "print(B.union(A))"
   ]
  },
  {
   "cell_type": "markdown",
   "id": "d801b3fb",
   "metadata": {},
   "source": [
    "### ii) A∩B"
   ]
  },
  {
   "attachments": {
    "A%E2%88%A9B.gif": {
     "image/gif": "[encoded data removed]"
    }
   },
   "cell_type": "markdown",
   "id": "65073426",
   "metadata": {},
   "source": [
    "![A%E2%88%A9B.gif](attachment:A%E2%88%A9B.gif)"
   ]
  },
  {
   "cell_type": "markdown",
   "id": "a65c8c6a",
   "metadata": {},
   "source": [
    "****A∩B, A Intersection B is a set of items that are common in two different sets****"
   ]
  },
  {
   "cell_type": "markdown",
   "id": "fb51afbb",
   "metadata": {},
   "source": [
    "****We either use \" & \" operator or intersection() function to find out the common elements in different sets****"
   ]
  },
  {
   "cell_type": "code",
   "execution_count": null,
   "id": "9748635e",
   "metadata": {},
   "outputs": [],
   "source": [
    "A = {1,2,3.22,'Common elements', 3-2j}\n",
    "B = {1.1, 3, 3.22, 3-2j, 'Intersection'}\n",
    "print(A)\n",
    "print(B)\n",
    "D = A & B\n",
    "print(D)"
   ]
  },
  {
   "cell_type": "code",
   "execution_count": null,
   "id": "23933a17",
   "metadata": {},
   "outputs": [],
   "source": [
    "print(A.intersection(B))\n",
    "print(B.intersection(A))"
   ]
  },
  {
   "cell_type": "code",
   "execution_count": null,
   "id": "77a9a7c8",
   "metadata": {},
   "outputs": [],
   "source": [
    "type(D)"
   ]
  },
  {
   "cell_type": "markdown",
   "id": "7973398d",
   "metadata": {},
   "source": [
    "**In Python sets are represented by the class \"set\"**"
   ]
  },
  {
   "cell_type": "markdown",
   "id": "859fec03",
   "metadata": {},
   "source": [
    "## 6) Dictionary"
   ]
  },
  {
   "cell_type": "markdown",
   "id": "e7476706",
   "metadata": {},
   "source": [
    "****Dictionary is a data type used to store values in \" key:value\" pairs****\n",
    "\n",
    "****Dictionaries are ordered, changable and do not allow duplicates****\n",
    "\n",
    "* **Dictionaries are optimized to retrieve values when a key is known**\n",
    "* ***In key:value, value is the actual information associated with a key, think of it as, items in your room are values, your door is the key and together we call it a room (dic)***\n",
    "\n",
    "    * ****things in your room are values****\n",
    "    * ****door of your room is the key****\n",
    "    * ****together they make a room which is a dictionary****\n",
    "    \n",
    "    \n",
    "*****Each key-value pair is separated by a 'colon :', whereas each key is separated by a 'comma ,'*****"
   ]
  },
  {
   "cell_type": "code",
   "execution_count": null,
   "id": "09cee7e8",
   "metadata": {},
   "outputs": [],
   "source": [
    "Dictionary = {1:'Look', 2:'closely', 3:'You see the difference?'}\n",
    "print(Dictionary)"
   ]
  },
  {
   "cell_type": "markdown",
   "id": "79c1f5e4",
   "metadata": {},
   "source": [
    "**In above example 1,2, and 3 are the keys, while 'look', 'closely' and 'You see the difference?' are the values assosciated with these keys**"
   ]
  },
  {
   "cell_type": "markdown",
   "id": "30f99104",
   "metadata": {},
   "source": [
    "****To access an item in the list we look at their keys****"
   ]
  },
  {
   "cell_type": "code",
   "execution_count": null,
   "id": "6280f85f",
   "metadata": {},
   "outputs": [],
   "source": [
    "dictt = {1:'Look', 2:'closely', 3:'You see the difference?', 4:'This is an example', 5:'of', 6:'Dictionaries'}\n",
    "print(dictt[1])"
   ]
  },
  {
   "cell_type": "code",
   "execution_count": null,
   "id": "924d166c",
   "metadata": {},
   "outputs": [],
   "source": [
    "print(dictt[2])"
   ]
  },
  {
   "cell_type": "code",
   "execution_count": null,
   "id": "197fbce2",
   "metadata": {},
   "outputs": [],
   "source": [
    "print(dictt[3])"
   ]
  },
  {
   "cell_type": "code",
   "execution_count": null,
   "id": "ebb7c49d",
   "metadata": {},
   "outputs": [],
   "source": [
    "print(dictt[4])"
   ]
  },
  {
   "cell_type": "code",
   "execution_count": null,
   "id": "9e945dd3",
   "metadata": {},
   "outputs": [],
   "source": [
    "print(dictt[5])"
   ]
  },
  {
   "cell_type": "code",
   "execution_count": null,
   "id": "232d09b0",
   "metadata": {},
   "outputs": [],
   "source": [
    "print(dictt[6])"
   ]
  },
  {
   "cell_type": "markdown",
   "id": "d2d258f5",
   "metadata": {},
   "source": [
    "**We cannot use values to access the key :p**"
   ]
  },
  {
   "cell_type": "code",
   "execution_count": null,
   "id": "de2c86e3",
   "metadata": {},
   "outputs": [],
   "source": [
    "print(dictt['Look'])"
   ]
  },
  {
   "cell_type": "markdown",
   "id": "991ae59c",
   "metadata": {},
   "source": [
    "*****We can also update a dictionary with new items*****"
   ]
  },
  {
   "cell_type": "code",
   "execution_count": null,
   "id": "ccb398a8",
   "metadata": {},
   "outputs": [],
   "source": [
    "dictt[7] = 'New item'\n",
    "print(dictt)"
   ]
  },
  {
   "cell_type": "markdown",
   "id": "5a207653",
   "metadata": {},
   "source": [
    "****We can also replace an item from a dictionary with another item****"
   ]
  },
  {
   "cell_type": "code",
   "execution_count": null,
   "id": "1038322e",
   "metadata": {},
   "outputs": [],
   "source": [
    "print(dictt, '\\tThis is before replacement')\n",
    "dictt[7] = 'Replaced item'\n",
    "print(dictt, '\\tThis is after replacement')"
   ]
  },
  {
   "cell_type": "markdown",
   "id": "c48d3413",
   "metadata": {},
   "source": [
    "*****We can also use mixed keys in the dictionaries, In the previous examples we have used only number keys*****"
   ]
  },
  {
   "cell_type": "code",
   "execution_count": null,
   "id": "97d4f419",
   "metadata": {},
   "outputs": [],
   "source": [
    "print(dictt[1:3])"
   ]
  },
  {
   "cell_type": "markdown",
   "id": "0d3e36b4",
   "metadata": {},
   "source": [
    "#### Dictionaries with Mixed Keys"
   ]
  },
  {
   "cell_type": "code",
   "execution_count": 317,
   "id": "31df5cc0",
   "metadata": {},
   "outputs": [
    {
     "name": "stdout",
     "output_type": "stream",
     "text": [
      "{1: 'Artifical Intelligence', 'Instructor': 'Sahibzada Salman', 2: 'Week 3', 'Duration': '6 months'}\n"
     ]
    }
   ],
   "source": [
    "dictionary = {1:'Artifical Intelligence', 'Instructor': 'Sahibzada Salman', 2:'Week 3', 'Duration': '6 months'}\n",
    "print(dictionary)"
   ]
  },
  {
   "cell_type": "markdown",
   "id": "854d9897",
   "metadata": {},
   "source": [
    "****How will you access the values in this case?****"
   ]
  },
  {
   "cell_type": "code",
   "execution_count": 318,
   "id": "3cc461d7",
   "metadata": {},
   "outputs": [
    {
     "data": {
      "text/plain": [
       "'Artifical Intelligence'"
      ]
     },
     "execution_count": 318,
     "metadata": {},
     "output_type": "execute_result"
    }
   ],
   "source": [
    "dictionary[1]"
   ]
  },
  {
   "cell_type": "code",
   "execution_count": 319,
   "id": "c361a405",
   "metadata": {},
   "outputs": [
    {
     "data": {
      "text/plain": [
       "'Sahibzada Salman'"
      ]
     },
     "execution_count": 319,
     "metadata": {},
     "output_type": "execute_result"
    }
   ],
   "source": [
    "dictionary['Instructor']"
   ]
  },
  {
   "cell_type": "code",
   "execution_count": 320,
   "id": "9d3b89ea",
   "metadata": {},
   "outputs": [
    {
     "data": {
      "text/plain": [
       "'Week 3'"
      ]
     },
     "execution_count": 320,
     "metadata": {},
     "output_type": "execute_result"
    }
   ],
   "source": [
    "dictionary[2]"
   ]
  },
  {
   "cell_type": "code",
   "execution_count": 321,
   "id": "e240419d",
   "metadata": {},
   "outputs": [
    {
     "data": {
      "text/plain": [
       "'6 months'"
      ]
     },
     "execution_count": 321,
     "metadata": {},
     "output_type": "execute_result"
    }
   ],
   "source": [
    "dictionary['Duration']"
   ]
  },
  {
   "cell_type": "code",
   "execution_count": 322,
   "id": "66eb19cf",
   "metadata": {},
   "outputs": [
    {
     "name": "stdout",
     "output_type": "stream",
     "text": [
      "((1, 'creating'), (2, 'a'), (3, 'dictionary'), (4, 'from'), (5, 'tuples'))\n"
     ]
    }
   ],
   "source": [
    "tup = ((1,'creating'),(2,'a'),(3,'dictionary'),(4,'from'),(5,'tuples'))\n",
    "print(tup)"
   ]
  },
  {
   "cell_type": "code",
   "execution_count": 323,
   "id": "92f0c80b",
   "metadata": {},
   "outputs": [
    {
     "name": "stdout",
     "output_type": "stream",
     "text": [
      "{1: 'creating', 2: 'a', 3: 'dictionary', 4: 'from', 5: 'tuples'}\n"
     ]
    }
   ],
   "source": [
    "tup_dict = dict(tup)\n",
    "print(tup_dict)"
   ]
  },
  {
   "cell_type": "code",
   "execution_count": 324,
   "id": "260a6def",
   "metadata": {},
   "outputs": [
    {
     "name": "stdout",
     "output_type": "stream",
     "text": [
      "{'Name': 'Henry Cavil', 'Age': 33, 'Movie': 'Man of Steel', 'Fictional Name': 'Super Man'}\n"
     ]
    }
   ],
   "source": [
    "dictionary = {'Name': 'Henry Cavil', 'Age': 33, 'Movie': 'Man of Steel', 'Fictional Name': 'Super Man' }\n",
    "print(dictionary)"
   ]
  },
  {
   "cell_type": "markdown",
   "id": "20b13778",
   "metadata": {},
   "source": [
    "****1) Updating Values****"
   ]
  },
  {
   "cell_type": "code",
   "execution_count": 325,
   "id": "eb02ebe0",
   "metadata": {},
   "outputs": [
    {
     "name": "stdout",
     "output_type": "stream",
     "text": [
      "{'Name': 'Henry Cavil', 'Age': 33, 'Movie': 'Man of Steel', 'Fictional Name': 'Super Man'}\n",
      "{'Name': 'Henry Cavil', 'Age': 36, 'Movie': 'Man of Steel', 'Fictional Name': 'Super Man'}\n"
     ]
    }
   ],
   "source": [
    "print(dictionary)\n",
    "dictionary['Age'] = 36\n",
    "print(dictionary)"
   ]
  },
  {
   "cell_type": "markdown",
   "id": "48debb21",
   "metadata": {},
   "source": [
    "****2) Adding an Element****"
   ]
  },
  {
   "cell_type": "code",
   "execution_count": 326,
   "id": "3b608d24",
   "metadata": {},
   "outputs": [
    {
     "name": "stdout",
     "output_type": "stream",
     "text": [
      "{'Name': 'Henry Cavil', 'Age': 36, 'Movie': 'Man of Steel', 'Fictional Name': 'Super Man'}\n",
      "{'Name': 'Henry Cavil', 'Age': 36, 'Movie': 'Man of Steel', 'Fictional Name': 'Super Man', 'Location': 'Hollywood'}\n"
     ]
    }
   ],
   "source": [
    "print(dictionary)\n",
    "dictionary['Location'] = 'Hollywood'\n",
    "print(dictionary)"
   ]
  },
  {
   "cell_type": "markdown",
   "id": "7443b070",
   "metadata": {},
   "source": [
    "****3) Removing an Element****"
   ]
  },
  {
   "cell_type": "markdown",
   "id": "60e75b68",
   "metadata": {},
   "source": [
    "**We can use pop() function to remove an item from a list using it's key**"
   ]
  },
  {
   "cell_type": "code",
   "execution_count": 327,
   "id": "f84e284a",
   "metadata": {},
   "outputs": [
    {
     "name": "stdout",
     "output_type": "stream",
     "text": [
      "{1: 3, 2: 2020, 'Movie': 'End Game', 'Favourite Character': 'Captain America'}\n"
     ]
    }
   ],
   "source": [
    "pop_dict = {1:3, 2: 2020, 'Movie':'End Game', 'Favourite Character':'Captain America'}\n",
    "print(pop_dict)"
   ]
  },
  {
   "cell_type": "code",
   "execution_count": 328,
   "id": "29a8af82",
   "metadata": {},
   "outputs": [
    {
     "name": "stdout",
     "output_type": "stream",
     "text": [
      "{1: 3, 2: 2020, 'Movie': 'End Game', 'Favourite Character': 'Captain America'}\n",
      "{1: 3, 'Movie': 'End Game', 'Favourite Character': 'Captain America'}\n"
     ]
    }
   ],
   "source": [
    "print(pop_dict)\n",
    "pop_dict.pop(2)\n",
    "print(pop_dict)"
   ]
  },
  {
   "cell_type": "code",
   "execution_count": 329,
   "id": "0d7cdc14",
   "metadata": {},
   "outputs": [
    {
     "name": "stdout",
     "output_type": "stream",
     "text": [
      "{1: 3, 'Movie': 'End Game', 'Favourite Character': 'Captain America'}\n",
      "{1: 3, 'Movie': 'End Game'}\n"
     ]
    }
   ],
   "source": [
    "print(pop_dict)\n",
    "pop_dict.pop('Favourite Character')\n",
    "print(pop_dict)"
   ]
  },
  {
   "cell_type": "markdown",
   "id": "289dfc12",
   "metadata": {},
   "source": [
    "**To delete an entire dictionary we can use del keyword**"
   ]
  },
  {
   "cell_type": "code",
   "execution_count": 330,
   "id": "4527ffcd",
   "metadata": {},
   "outputs": [
    {
     "name": "stdout",
     "output_type": "stream",
     "text": [
      "{1: 3, 'Movie': 'End Game'}\n"
     ]
    },
    {
     "ename": "NameError",
     "evalue": "name 'pop_dict' is not defined",
     "output_type": "error",
     "traceback": [
      "\u001b[1;31m---------------------------------------------------------------------------\u001b[0m",
      "\u001b[1;31mNameError\u001b[0m                                 Traceback (most recent call last)",
      "\u001b[1;32m<ipython-input-330-824f78a60e56>\u001b[0m in \u001b[0;36m<module>\u001b[1;34m\u001b[0m\n\u001b[0;32m      1\u001b[0m \u001b[0mprint\u001b[0m\u001b[1;33m(\u001b[0m\u001b[0mpop_dict\u001b[0m\u001b[1;33m)\u001b[0m\u001b[1;33m\u001b[0m\u001b[1;33m\u001b[0m\u001b[0m\n\u001b[0;32m      2\u001b[0m \u001b[1;32mdel\u001b[0m \u001b[0mpop_dict\u001b[0m\u001b[1;33m\u001b[0m\u001b[1;33m\u001b[0m\u001b[0m\n\u001b[1;32m----> 3\u001b[1;33m \u001b[0mprint\u001b[0m\u001b[1;33m(\u001b[0m\u001b[0mpop_dict\u001b[0m\u001b[1;33m)\u001b[0m\u001b[1;33m\u001b[0m\u001b[1;33m\u001b[0m\u001b[0m\n\u001b[0m",
      "\u001b[1;31mNameError\u001b[0m: name 'pop_dict' is not defined"
     ]
    }
   ],
   "source": [
    "print(pop_dict)\n",
    "del pop_dict\n",
    "print(pop_dict)"
   ]
  },
  {
   "cell_type": "code",
   "execution_count": null,
   "id": "27b94584",
   "metadata": {},
   "outputs": [],
   "source": [
    "type(dictionary)"
   ]
  },
  {
   "cell_type": "markdown",
   "id": "377475bd",
   "metadata": {},
   "source": [
    "****In Python the dictionaries are represented by the class 'dict'**** **as shown above**"
   ]
  }
 ],
 "metadata": {
  "kernelspec": {
   "display_name": "Python 3",
   "language": "python",
   "name": "python3"
  },
  "language_info": {
   "codemirror_mode": {
    "name": "ipython",
    "version": 3
   },
   "file_extension": ".py",
   "mimetype": "text/x-python",
   "name": "python",
   "nbconvert_exporter": "python",
   "pygments_lexer": "ipython3",
   "version": "3.8.8"
  }
 },
 "nbformat": 4,
 "nbformat_minor": 5
}
