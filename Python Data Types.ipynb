{
 "cells": [
  {
   "cell_type": "markdown",
   "id": "4561bcc4",
   "metadata": {},
   "source": [
    "# Python Data Types"
   ]
  },
  {
   "cell_type": "raw",
   "id": "6928e08f",
   "metadata": {},
   "source": [
    "1) Numeric \n",
    "    i) integer\n",
    "    ii) floating point\n",
    "    iii) complex numbers\n",
    "2) Strings\n",
    "    i) Concatenation\n",
    "    ii) Slicing\n",
    "    iii) Repetition\n",
    "3) Tuple\n",
    "4) List\n",
    "5) Set\n",
    "6) Dictionary\n"
   ]
  },
  {
   "cell_type": "markdown",
   "id": "cb739485",
   "metadata": {},
   "source": [
    "# 1) Numeric"
   ]
  },
  {
   "cell_type": "markdown",
   "id": "2efa6e4a",
   "metadata": {},
   "source": [
    "   ### i) Integer"
   ]
  },
  {
   "cell_type": "markdown",
   "id": "7adc5ee3",
   "metadata": {},
   "source": [
    "* An integer is a non fraction number that can be positve, negative and zero.\n",
    "* In python language integer is represented as a data type 'int'\n",
    "* there is no limit on how long the integer value is\n",
    "\n",
    "  * int class tells the program that the given information/data is in integer from and act accordingly \n",
    "        *FOR EXAMPLE 'int' SHOWS THAT WE CAN PERFOM NUMERIC OPERATIONS ON THIS DATA, \n",
    "        *NUMERIC OPERATION COULD BE +, -, x, OR /"
   ]
  },
  {
   "cell_type": "code",
   "execution_count": 1,
   "id": "6182d1a8",
   "metadata": {},
   "outputs": [
    {
     "name": "stdout",
     "output_type": "stream",
     "text": [
      "124\n"
     ]
    }
   ],
   "source": [
    "print(124)"
   ]
  },
  {
   "cell_type": "code",
   "execution_count": 2,
   "id": "2f79d93e",
   "metadata": {},
   "outputs": [
    {
     "name": "stdout",
     "output_type": "stream",
     "text": [
      "193898938493974\n"
     ]
    }
   ],
   "source": [
    "print(193898938493974)"
   ]
  },
  {
   "cell_type": "code",
   "execution_count": 3,
   "id": "a2cc17b2",
   "metadata": {},
   "outputs": [
    {
     "name": "stdout",
     "output_type": "stream",
     "text": [
      "10000000000124\n"
     ]
    }
   ],
   "source": [
    "print(10000000000000 + 124)"
   ]
  },
  {
   "cell_type": "code",
   "execution_count": 4,
   "id": "b4a2b84e",
   "metadata": {},
   "outputs": [
    {
     "name": "stdout",
     "output_type": "stream",
     "text": [
      "1000000000000000000000000000000000000000000000000000000000000000000000000000001\n"
     ]
    }
   ],
   "source": [
    "print(1000000000000000000000000000000000000000000000000000000000000000000000000000000 + 1)"
   ]
  },
  {
   "cell_type": "code",
   "execution_count": 12,
   "id": "0dd17f45",
   "metadata": {},
   "outputs": [
    {
     "data": {
      "text/plain": [
       "int"
      ]
     },
     "execution_count": 12,
     "metadata": {},
     "output_type": "execute_result"
    }
   ],
   "source": [
    "type(10)"
   ]
  },
  {
   "cell_type": "markdown",
   "id": "1afd0ea5",
   "metadata": {},
   "source": [
    "* In Python Integers are represented by **'int'** class"
   ]
  },
  {
   "cell_type": "markdown",
   "id": "03e3f7a2",
   "metadata": {},
   "source": [
    "* Python can handle a platheora of integers (ofcourse it depends on the system memory)"
   ]
  },
  {
   "cell_type": "markdown",
   "id": "d29a39d5",
   "metadata": {},
   "source": [
    "### ii) Floating Point Numbers"
   ]
  },
  {
   "cell_type": "markdown",
   "id": "7ee72b49",
   "metadata": {},
   "source": [
    "****A float or floating point is a number with a decimal point****\n",
    "   * **Examples include 1.22,0.100,-9.8, -.19.98, 0.000001345 etc**\n",
    "   * **float tells the program that a given piece of information belongs to 'float' class and it has values with decimal point**\n",
    "   \n",
    "**Very small or very large values are often represented in scientific notation (e or E)**"
   ]
  },
  {
   "cell_type": "code",
   "execution_count": 6,
   "id": "eefa880a",
   "metadata": {},
   "outputs": [
    {
     "name": "stdout",
     "output_type": "stream",
     "text": [
      "1.29\n"
     ]
    }
   ],
   "source": [
    "print(1.29)"
   ]
  },
  {
   "cell_type": "code",
   "execution_count": 7,
   "id": "bbacef02",
   "metadata": {},
   "outputs": [
    {
     "name": "stdout",
     "output_type": "stream",
     "text": [
      "-11.98\n"
     ]
    }
   ],
   "source": [
    "print(-11.98)"
   ]
  },
  {
   "cell_type": "code",
   "execution_count": 8,
   "id": "036789ea",
   "metadata": {},
   "outputs": [
    {
     "name": "stdout",
     "output_type": "stream",
     "text": [
      "-0.99924\n"
     ]
    }
   ],
   "source": [
    "print(-0.99924)"
   ]
  },
  {
   "cell_type": "code",
   "execution_count": 9,
   "id": "0ecc86f9",
   "metadata": {},
   "outputs": [
    {
     "name": "stdout",
     "output_type": "stream",
     "text": [
      "0.1096\n"
     ]
    }
   ],
   "source": [
    "print(0.123 - 0.0134)"
   ]
  },
  {
   "cell_type": "code",
   "execution_count": 11,
   "id": "aa39608a",
   "metadata": {},
   "outputs": [
    {
     "name": "stdout",
     "output_type": "stream",
     "text": [
      "1.0898493248109808\n"
     ]
    }
   ],
   "source": [
    "print(0.08984932481098091858798259138401924097859822034839418388798798347242439847 + 1)"
   ]
  },
  {
   "cell_type": "code",
   "execution_count": 81,
   "id": "ad4e5767",
   "metadata": {},
   "outputs": [
    {
     "name": "stdout",
     "output_type": "stream",
     "text": [
      "120000000.0\n"
     ]
    }
   ],
   "source": [
    "print(1.2e8)"
   ]
  },
  {
   "cell_type": "code",
   "execution_count": 82,
   "id": "dfe19497",
   "metadata": {},
   "outputs": [
    {
     "name": "stdout",
     "output_type": "stream",
     "text": [
      "9.01920981821e-13\n"
     ]
    }
   ],
   "source": [
    "print(0.000000000000901920981821)"
   ]
  },
  {
   "cell_type": "code",
   "execution_count": 85,
   "id": "c5352755",
   "metadata": {},
   "outputs": [
    {
     "name": "stdout",
     "output_type": "stream",
     "text": [
      "0.0012\n"
     ]
    }
   ],
   "source": [
    "print(1.2e-3)"
   ]
  },
  {
   "cell_type": "code",
   "execution_count": 88,
   "id": "707d444a",
   "metadata": {},
   "outputs": [
    {
     "name": "stdout",
     "output_type": "stream",
     "text": [
      "1.67e-19\n"
     ]
    }
   ],
   "source": [
    "print(0.000000000000000000167)  # Charge on an electron/proton "
   ]
  },
  {
   "cell_type": "code",
   "execution_count": 92,
   "id": "2243baaf",
   "metadata": {},
   "outputs": [
    {
     "name": "stdout",
     "output_type": "stream",
     "text": [
      "300000000.0\n"
     ]
    }
   ],
   "source": [
    "print(3e8)                     # Speed of light"
   ]
  },
  {
   "cell_type": "code",
   "execution_count": 14,
   "id": "a825c453",
   "metadata": {},
   "outputs": [
    {
     "data": {
      "text/plain": [
       "float"
      ]
     },
     "execution_count": 14,
     "metadata": {},
     "output_type": "execute_result"
    }
   ],
   "source": [
    "type(3.1415)"
   ]
  },
  {
   "cell_type": "markdown",
   "id": "462eb6dd",
   "metadata": {},
   "source": [
    "**In Python floating point numbers are represented by the class 'float'**"
   ]
  },
  {
   "cell_type": "markdown",
   "id": "5eca23bc",
   "metadata": {},
   "source": [
    "### iii) Complex Number"
   ]
  },
  {
   "cell_type": "markdown",
   "id": "1756c7e0",
   "metadata": {},
   "source": [
    "****Complex numbers are numbers that contain both real part and imaginary part****\n",
    "* **Examples include 8+3j where 8 is a real part and 3j is an imaginary part**\n",
    "* **Other examples include 1-5j, -1-2j, -23+33j etc**"
   ]
  },
  {
   "cell_type": "code",
   "execution_count": 19,
   "id": "f1e011e7",
   "metadata": {},
   "outputs": [
    {
     "name": "stdout",
     "output_type": "stream",
     "text": [
      "(8+3j)\n"
     ]
    }
   ],
   "source": [
    "print(8+3j)"
   ]
  },
  {
   "cell_type": "code",
   "execution_count": 20,
   "id": "1e953022",
   "metadata": {},
   "outputs": [
    {
     "name": "stdout",
     "output_type": "stream",
     "text": [
      "(1-5j)\n"
     ]
    }
   ],
   "source": [
    "print(1-5j)"
   ]
  },
  {
   "cell_type": "code",
   "execution_count": 21,
   "id": "bba94e81",
   "metadata": {},
   "outputs": [
    {
     "name": "stdout",
     "output_type": "stream",
     "text": [
      "(-1-2j)\n"
     ]
    }
   ],
   "source": [
    "print(-1-2j)"
   ]
  },
  {
   "cell_type": "code",
   "execution_count": 22,
   "id": "4386a306",
   "metadata": {},
   "outputs": [
    {
     "name": "stdout",
     "output_type": "stream",
     "text": [
      "(-23+33j)\n"
     ]
    }
   ],
   "source": [
    "print(-23+33j)"
   ]
  },
  {
   "cell_type": "code",
   "execution_count": 23,
   "id": "fac636ff",
   "metadata": {},
   "outputs": [
    {
     "data": {
      "text/plain": [
       "complex"
      ]
     },
     "execution_count": 23,
     "metadata": {},
     "output_type": "execute_result"
    }
   ],
   "source": [
    "type(8+3j)"
   ]
  },
  {
   "cell_type": "markdown",
   "id": "b3a287dc",
   "metadata": {},
   "source": [
    "* In python complex numbers are represented by the class 'complex' as shown above"
   ]
  },
  {
   "cell_type": "markdown",
   "id": "7ad9fb30",
   "metadata": {},
   "source": [
    "## 2) String"
   ]
  },
  {
   "cell_type": "markdown",
   "id": "3bec3520",
   "metadata": {},
   "source": [
    "****String is a data type used to represent text data****\n",
    "                    * OR *\n",
    "* **We can say it is a sequence of characters**\n",
    "\n",
    "\n",
    "* ***There can be one or more characters in a string with signle quotation, double quotation and even triple quotation marks***\n",
    "\n"
   ]
  },
  {
   "cell_type": "code",
   "execution_count": 24,
   "id": "1f41baa4",
   "metadata": {},
   "outputs": [
    {
     "name": "stdout",
     "output_type": "stream",
     "text": [
      "a\n"
     ]
    }
   ],
   "source": [
    "print('a')"
   ]
  },
  {
   "cell_type": "code",
   "execution_count": 25,
   "id": "d3ed374e",
   "metadata": {},
   "outputs": [
    {
     "name": "stdout",
     "output_type": "stream",
     "text": [
      "a\n"
     ]
    }
   ],
   "source": [
    "print(\"a\")"
   ]
  },
  {
   "cell_type": "code",
   "execution_count": 27,
   "id": "d20e962a",
   "metadata": {},
   "outputs": [
    {
     "name": "stdout",
     "output_type": "stream",
     "text": [
      "a\n"
     ]
    }
   ],
   "source": [
    "print('''a''')"
   ]
  },
  {
   "cell_type": "code",
   "execution_count": 31,
   "id": "24e271d3",
   "metadata": {},
   "outputs": [
    {
     "name": "stdout",
     "output_type": "stream",
     "text": [
      "Hello Class!\n"
     ]
    }
   ],
   "source": [
    "print(\"Hello Class!\")"
   ]
  },
  {
   "cell_type": "code",
   "execution_count": 93,
   "id": "ba7f330c",
   "metadata": {},
   "outputs": [
    {
     "name": "stdout",
     "output_type": "stream",
     "text": [
      "My name is Sahibzada Salman, and I am your Artificial Intelligence instructor\n"
     ]
    }
   ],
   "source": [
    "print('My name is Sahibzada Salman, and I am your Artificial Intelligence instructor')"
   ]
  },
  {
   "cell_type": "code",
   "execution_count": 34,
   "id": "6ec6b716",
   "metadata": {},
   "outputs": [
    {
     "name": "stdout",
     "output_type": "stream",
     "text": [
      "So this is what a string is, it is a sequence of characters under the quotation marks. The characters can be anything ranging from simple letters to some strange looking charaters like / or  * or & or ^ or % etc\n"
     ]
    }
   ],
   "source": [
    "print('''So this is what a string is, it is a sequence of characters under the quotation marks. The characters can be anything ranging from simple letters to some strange looking charaters like / or  * or & or ^ or % etc''')"
   ]
  },
  {
   "cell_type": "code",
   "execution_count": 35,
   "id": "46cfc9f2",
   "metadata": {},
   "outputs": [
    {
     "data": {
      "text/plain": [
       "str"
      ]
     },
     "execution_count": 35,
     "metadata": {},
     "output_type": "execute_result"
    }
   ],
   "source": [
    "type('This is a string class :)')"
   ]
  },
  {
   "cell_type": "markdown",
   "id": "451d7c8e",
   "metadata": {},
   "source": [
    "* **In Python, the string is repsented by a class 'str'**\n",
    "\n",
    "* **Strings are IMMUTABLE means we cannot change the items in a string**"
   ]
  },
  {
   "cell_type": "markdown",
   "id": "f85f9b48",
   "metadata": {},
   "source": [
    "#### Operations in String"
   ]
  },
  {
   "cell_type": "markdown",
   "id": "89cc23fe",
   "metadata": {},
   "source": [
    "##### We can Perform Concatenation, Slicing and Repetition in Strings "
   ]
  },
  {
   "cell_type": "markdown",
   "id": "ddf9812d",
   "metadata": {},
   "source": [
    "#### i) Concatenation"
   ]
  },
  {
   "cell_type": "markdown",
   "id": "2c3793a8",
   "metadata": {},
   "source": [
    "* **Concatenation means joing two strings together**\n",
    "\n",
    "* *let's conocatenate two different strings together* "
   ]
  },
  {
   "cell_type": "code",
   "execution_count": 39,
   "id": "423cc652",
   "metadata": {},
   "outputs": [
    {
     "name": "stdout",
     "output_type": "stream",
     "text": [
      "Hello Class, this is an example of concatenation in strings!\n"
     ]
    }
   ],
   "source": [
    "print('Hello Class, ' + 'this is an example of concatenation in strings!')"
   ]
  },
  {
   "cell_type": "code",
   "execution_count": 43,
   "id": "157ac282",
   "metadata": {},
   "outputs": [
    {
     "name": "stdout",
     "output_type": "stream",
     "text": [
      "So, basically we are just adding two different strings here using a \"+\" operator\n"
     ]
    }
   ],
   "source": [
    "print('So, basically we are ' + 'just adding two different strings here using a \"+\" operator')"
   ]
  },
  {
   "cell_type": "code",
   "execution_count": 98,
   "id": "02239dac",
   "metadata": {},
   "outputs": [
    {
     "name": "stdout",
     "output_type": "stream",
     "text": [
      "Hello World!\n"
     ]
    }
   ],
   "source": [
    "print('Hello '  +  'World!')"
   ]
  },
  {
   "cell_type": "markdown",
   "id": "bb6fc43f",
   "metadata": {},
   "source": [
    "**This is how you can join two different strings**"
   ]
  },
  {
   "cell_type": "markdown",
   "id": "309b5164",
   "metadata": {},
   "source": [
    "#### ii) Slicing "
   ]
  },
  {
   "cell_type": "markdown",
   "id": "f7043b6d",
   "metadata": {},
   "source": [
    "**Slicing means cutting a string into different parts**\n",
    "\n",
    "   **OR**\n",
    "     \n",
    "**Extracting different parts of a string**"
   ]
  },
  {
   "cell_type": "code",
   "execution_count": 44,
   "id": "fb524bfe",
   "metadata": {
    "scrolled": true
   },
   "outputs": [
    {
     "name": "stdout",
     "output_type": "stream",
     "text": [
      "LANGUAGE\n"
     ]
    }
   ],
   "source": [
    "print('LANGUAGE')"
   ]
  },
  {
   "cell_type": "markdown",
   "id": "36e42e11",
   "metadata": {},
   "source": [
    "* *There are 8 different characters in this word*\n",
    "* *So let's extract the 3rd, 4th and the 5th letter from the string which are N, G and U*"
   ]
  },
  {
   "cell_type": "code",
   "execution_count": 47,
   "id": "26094a8d",
   "metadata": {},
   "outputs": [
    {
     "name": "stdout",
     "output_type": "stream",
     "text": [
      "NGU\n"
     ]
    }
   ],
   "source": [
    "print('LANGUAGE'[2:5])"
   ]
  },
  {
   "cell_type": "markdown",
   "id": "d188e5e2",
   "metadata": {},
   "source": [
    "#####  You Must Be Wondering Why Did We Selected The Range From [2:5], While We Wanted To Select The 3rd, 4th And The 5th Letter? It Should Have Been From [3:5]?"
   ]
  },
  {
   "cell_type": "markdown",
   "id": "3470dfda",
   "metadata": {},
   "source": [
    "**ANS:** **Because in Python the indexing starts from 0**\n",
    "\n",
    "*or*\n",
    "\n",
    "**We Can Say that Python Starts its counting from '0' not '1' :)**"
   ]
  },
  {
   "cell_type": "code",
   "execution_count": 48,
   "id": "e522caee",
   "metadata": {},
   "outputs": [
    {
     "name": "stdout",
     "output_type": "stream",
     "text": [
      "L\n"
     ]
    }
   ],
   "source": [
    "print('LANGUAGE'[0])"
   ]
  },
  {
   "cell_type": "code",
   "execution_count": 49,
   "id": "c2cd69d6",
   "metadata": {},
   "outputs": [
    {
     "name": "stdout",
     "output_type": "stream",
     "text": [
      "A\n"
     ]
    }
   ],
   "source": [
    "print('LANGUAGE'[1])"
   ]
  },
  {
   "cell_type": "code",
   "execution_count": 52,
   "id": "ca4d1c3c",
   "metadata": {},
   "outputs": [
    {
     "name": "stdout",
     "output_type": "stream",
     "text": [
      "N\n"
     ]
    }
   ],
   "source": [
    "print('LANGUAGE'[2])"
   ]
  },
  {
   "cell_type": "code",
   "execution_count": 53,
   "id": "1dacd7d5",
   "metadata": {},
   "outputs": [
    {
     "name": "stdout",
     "output_type": "stream",
     "text": [
      "G\n"
     ]
    }
   ],
   "source": [
    "print('LANGUAGE'[3])"
   ]
  },
  {
   "cell_type": "code",
   "execution_count": 54,
   "id": "4bd271fd",
   "metadata": {},
   "outputs": [
    {
     "name": "stdout",
     "output_type": "stream",
     "text": [
      "U\n"
     ]
    }
   ],
   "source": [
    "print('LANGUAGE'[4])"
   ]
  },
  {
   "cell_type": "code",
   "execution_count": 55,
   "id": "3e2b970e",
   "metadata": {},
   "outputs": [
    {
     "name": "stdout",
     "output_type": "stream",
     "text": [
      "A\n"
     ]
    }
   ],
   "source": [
    "print('LANGUAGE'[5])"
   ]
  },
  {
   "cell_type": "code",
   "execution_count": 56,
   "id": "d7585c65",
   "metadata": {},
   "outputs": [
    {
     "name": "stdout",
     "output_type": "stream",
     "text": [
      "G\n"
     ]
    }
   ],
   "source": [
    "print('LANGUAGE'[6])"
   ]
  },
  {
   "cell_type": "code",
   "execution_count": 57,
   "id": "6d8fbb0f",
   "metadata": {},
   "outputs": [
    {
     "name": "stdout",
     "output_type": "stream",
     "text": [
      "E\n"
     ]
    }
   ],
   "source": [
    "print('LANGUAGE'[7])"
   ]
  },
  {
   "cell_type": "markdown",
   "id": "de1edc59",
   "metadata": {},
   "source": [
    "**There are 8 characters in this string, but the last character is on no 7 position, becuase python starts counting from 0**"
   ]
  },
  {
   "cell_type": "markdown",
   "id": "3212eddf",
   "metadata": {},
   "source": [
    "#####  iii) Repetition"
   ]
  },
  {
   "cell_type": "markdown",
   "id": "157638fc",
   "metadata": {},
   "source": [
    "**Repetition means repeating a sequence or a string a certain number of times**"
   ]
  },
  {
   "cell_type": "code",
   "execution_count": 60,
   "id": "0b8bccc5",
   "metadata": {},
   "outputs": [
    {
     "name": "stdout",
     "output_type": "stream",
     "text": [
      "GO GO \n"
     ]
    }
   ],
   "source": [
    "print('GO '*2)"
   ]
  },
  {
   "cell_type": "code",
   "execution_count": 61,
   "id": "9705e8d0",
   "metadata": {},
   "outputs": [
    {
     "name": "stdout",
     "output_type": "stream",
     "text": [
      "GO GO GO GO \n"
     ]
    }
   ],
   "source": [
    "print('GO '*4)"
   ]
  },
  {
   "cell_type": "code",
   "execution_count": 62,
   "id": "77049b3c",
   "metadata": {},
   "outputs": [
    {
     "name": "stdout",
     "output_type": "stream",
     "text": [
      "Hey Hey Hey Hey Hey \n"
     ]
    }
   ],
   "source": [
    "print('Hey '*5)"
   ]
  },
  {
   "cell_type": "code",
   "execution_count": 63,
   "id": "912f574e",
   "metadata": {
    "scrolled": true
   },
   "outputs": [
    {
     "name": "stdout",
     "output_type": "stream",
     "text": [
      "etc. etc. etc. etc. etc. etc. etc. etc. etc. etc. \n"
     ]
    }
   ],
   "source": [
    "print('etc. '*10)"
   ]
  },
  {
   "cell_type": "markdown",
   "id": "753b75fd",
   "metadata": {},
   "source": [
    "##### "
   ]
  },
  {
   "cell_type": "markdown",
   "id": "ce95813f",
   "metadata": {},
   "source": [
    "## 3) List  "
   ]
  },
  {
   "cell_type": "markdown",
   "id": "d2c8d5c7",
   "metadata": {},
   "source": [
    "**List is a collection of different elements or items inside square brackets '[This, is, a, list, :)]' separated by commas**\n",
    "\n",
    "**A list can have elements of the same data type or even elemets of different types for example, a signle list can have integers, float and string items**\n",
    "\n",
    "**List  **"
   ]
  },
  {
   "cell_type": "code",
   "execution_count": 2,
   "id": "2718ca0e",
   "metadata": {},
   "outputs": [
    {
     "name": "stdout",
     "output_type": "stream",
     "text": [
      "[1, 2, 3, 4, 5, 6, 7, 8, 9, 10]\n"
     ]
    }
   ],
   "source": [
    "print([1,2,3,4,5,6,7,8,9,10])  # a List of Integers"
   ]
  },
  {
   "cell_type": "code",
   "execution_count": 3,
   "id": "fb4934b9",
   "metadata": {},
   "outputs": [
    {
     "name": "stdout",
     "output_type": "stream",
     "text": [
      "[1.1, 2.2, 3.3, 4.4, 5.5, 6.6, 7.7, 8.8, 9.9, 10]\n"
     ]
    }
   ],
   "source": [
    "print([1.1,2.2,3.3,4.4,5.5,6.6,7.7,8.8,9.9,10]) # a list of floating point numbers"
   ]
  },
  {
   "cell_type": "code",
   "execution_count": 4,
   "id": "dc740ad3",
   "metadata": {},
   "outputs": [
    {
     "name": "stdout",
     "output_type": "stream",
     "text": [
      "[(1+2j), (-1+2j), (-1-2j), (1-2j), (-3-3j), (5-6j)]\n"
     ]
    }
   ],
   "source": [
    "print([1+2j, -1+2j, -1-2j, 1-2j, -3-3j, 5-6j]) # a list of complex numbers "
   ]
  },
  {
   "cell_type": "code",
   "execution_count": 5,
   "id": "14cdcddb",
   "metadata": {},
   "outputs": [
    {
     "name": "stdout",
     "output_type": "stream",
     "text": [
      "['This', 'is', 'a', 'string', 'list']\n"
     ]
    }
   ],
   "source": [
    "print(['This', 'is', 'a', 'string', 'list']) # a list of strings"
   ]
  },
  {
   "cell_type": "code",
   "execution_count": 7,
   "id": "65a63892",
   "metadata": {},
   "outputs": [
    {
     "name": "stdout",
     "output_type": "stream",
     "text": [
      "[1, 10, 100, 1.2, 2.3, 3.4, (1+1j), (2+2j), (3+3j), 'A list can have a combination of all the data types that we discussed']\n"
     ]
    }
   ],
   "source": [
    "print([1, 10, 100, 1.2, 2.3, 3.4, 1+1j, 2+2j, 3+3j, 'A list can have a combination of all the data types that we discussed'])"
   ]
  },
  {
   "cell_type": "markdown",
   "id": "380ebdaf",
   "metadata": {},
   "source": [
    "\n",
    "* **A list is MUTABLE, means we can change items in the list by simply using the slicing method (indexing)**\n",
    "\n",
    "* *Let's see an example below*"
   ]
  },
  {
   "cell_type": "code",
   "execution_count": 8,
   "id": "abf8b2b0",
   "metadata": {},
   "outputs": [
    {
     "name": "stdout",
     "output_type": "stream",
     "text": [
      "[1, 2, -3, -4, 2.3, -4.5, (1+3j), 'string']\n"
     ]
    }
   ],
   "source": [
    "print([1,2,-3, -4, 2.3, -4.5, 1+3j, 'string'])"
   ]
  },
  {
   "cell_type": "markdown",
   "id": "a70a2626",
   "metadata": {},
   "source": [
    "**There are 8 items in this list, let's access each element one by one**"
   ]
  },
  {
   "cell_type": "code",
   "execution_count": 9,
   "id": "0f549775",
   "metadata": {},
   "outputs": [
    {
     "name": "stdout",
     "output_type": "stream",
     "text": [
      "1\n"
     ]
    }
   ],
   "source": [
    "print([1,2,-3, -4, 2.3, -4.5, 1+3j, 'string'][0])"
   ]
  },
  {
   "cell_type": "code",
   "execution_count": 10,
   "id": "c5cb4058",
   "metadata": {},
   "outputs": [
    {
     "name": "stdout",
     "output_type": "stream",
     "text": [
      "2\n"
     ]
    }
   ],
   "source": [
    "print([1,2,-3, -4, 2.3, -4.5, 1+3j, 'string'][1])"
   ]
  },
  {
   "cell_type": "code",
   "execution_count": 11,
   "id": "939fa5fd",
   "metadata": {},
   "outputs": [
    {
     "name": "stdout",
     "output_type": "stream",
     "text": [
      "-3\n"
     ]
    }
   ],
   "source": [
    "print([1,2,-3, -4, 2.3, -4.5, 1+3j, 'string'][2])"
   ]
  },
  {
   "cell_type": "code",
   "execution_count": 12,
   "id": "c03f9fd5",
   "metadata": {},
   "outputs": [
    {
     "name": "stdout",
     "output_type": "stream",
     "text": [
      "-4\n"
     ]
    }
   ],
   "source": [
    "print([1,2,-3, -4, 2.3, -4.5, 1+3j, 'string'][3])"
   ]
  },
  {
   "cell_type": "code",
   "execution_count": 13,
   "id": "7d98ec5d",
   "metadata": {},
   "outputs": [
    {
     "name": "stdout",
     "output_type": "stream",
     "text": [
      "2.3\n"
     ]
    }
   ],
   "source": [
    "print([1,2,-3, -4, 2.3, -4.5, 1+3j, 'string'][4])"
   ]
  },
  {
   "cell_type": "code",
   "execution_count": 14,
   "id": "60766a29",
   "metadata": {},
   "outputs": [
    {
     "name": "stdout",
     "output_type": "stream",
     "text": [
      "-4.5\n"
     ]
    }
   ],
   "source": [
    "print([1,2,-3, -4, 2.3, -4.5, 1+3j, 'string'][5])"
   ]
  },
  {
   "cell_type": "code",
   "execution_count": 15,
   "id": "840b36a6",
   "metadata": {},
   "outputs": [
    {
     "name": "stdout",
     "output_type": "stream",
     "text": [
      "(1+3j)\n"
     ]
    }
   ],
   "source": [
    "print([1,2,-3, -4, 2.3, -4.5, 1+3j, 'string'][6])"
   ]
  },
  {
   "cell_type": "code",
   "execution_count": 16,
   "id": "a246cffc",
   "metadata": {},
   "outputs": [
    {
     "name": "stdout",
     "output_type": "stream",
     "text": [
      "string\n"
     ]
    }
   ],
   "source": [
    "print([1,2,-3, -4, 2.3, -4.5, 1+3j, 'string'][7])"
   ]
  },
  {
   "cell_type": "markdown",
   "id": "08a7eb95",
   "metadata": {},
   "source": [
    "**Let's access first 3 items at the same time**"
   ]
  },
  {
   "cell_type": "code",
   "execution_count": 17,
   "id": "9ef8ac46",
   "metadata": {},
   "outputs": [
    {
     "name": "stdout",
     "output_type": "stream",
     "text": [
      "[1, 2, -3]\n"
     ]
    }
   ],
   "source": [
    "print([1,2,-3, -4, 2.3, -4.5, 1+3j, 'string'][0:3]) "
   ]
  },
  {
   "cell_type": "markdown",
   "id": "94639605",
   "metadata": {},
   "source": [
    "**Now, let's access the last 3 items from the list**"
   ]
  },
  {
   "cell_type": "code",
   "execution_count": 18,
   "id": "e8cdb09d",
   "metadata": {},
   "outputs": [
    {
     "name": "stdout",
     "output_type": "stream",
     "text": [
      "[2.3, -4.5, (1+3j)]\n"
     ]
    }
   ],
   "source": [
    "print([1,2,-3, -4, 2.3, -4.5, 1+3j, 'string'][4:7])"
   ]
  },
  {
   "cell_type": "markdown",
   "id": "a31c4043",
   "metadata": {},
   "source": [
    "***We can also replace an element in the list***"
   ]
  },
  {
   "cell_type": "code",
   "execution_count": 32,
   "id": "79eb3cc6",
   "metadata": {},
   "outputs": [
    {
     "name": "stdout",
     "output_type": "stream",
     "text": [
      "[1, 2, -3, -4, 2.3, -4.5, (1+3j)]\n"
     ]
    }
   ],
   "source": [
    "listt = [1,2,-3, -4, 2.3, -4.5, 1+3j, 'string']\n",
    "print(listt[0:7])"
   ]
  },
  {
   "cell_type": "code",
   "execution_count": 34,
   "id": "20161d89",
   "metadata": {},
   "outputs": [
    {
     "name": "stdout",
     "output_type": "stream",
     "text": [
      "[1, 2, -3, 'replacing the previously placed element (-4) with this sentence :p', 2.3, -4.5, (1+3j), 'string']\n"
     ]
    }
   ],
   "source": [
    "listt[3] = \"replacing the previously placed element (-4) with this sentence :p\"\n",
    "print(listt)"
   ]
  },
  {
   "cell_type": "code",
   "execution_count": 35,
   "id": "13af9f49",
   "metadata": {},
   "outputs": [
    {
     "data": {
      "text/plain": [
       "list"
      ]
     },
     "execution_count": 35,
     "metadata": {},
     "output_type": "execute_result"
    }
   ],
   "source": [
    "type(listt)"
   ]
  },
  {
   "cell_type": "markdown",
   "id": "31ce8f6b",
   "metadata": {},
   "source": [
    "****In Python a list is represented by a \"list\" class****"
   ]
  },
  {
   "cell_type": "markdown",
   "id": "cd35a7f3",
   "metadata": {},
   "source": [
    "## 4) Tuple"
   ]
  },
  {
   "cell_type": "markdown",
   "id": "1ed273a1",
   "metadata": {},
   "source": [
    "**A tuple is a data type used to store multiple items in a single variable**\n",
    "\n",
    "***A tuple is a collection of items which are ordered and unchangable***\n",
    "\n",
    "****The only differnece between a tuple and a list is that lists are mutable while tuples are not****\n",
    "\n",
    "\n",
    "**Tuples are identified by paranthesis ()**"
   ]
  },
  {
   "cell_type": "code",
   "execution_count": 36,
   "id": "21459015",
   "metadata": {},
   "outputs": [
    {
     "name": "stdout",
     "output_type": "stream",
     "text": [
      "(1, 2.3, (1-3j), 'This is an example of tuple')\n"
     ]
    }
   ],
   "source": [
    "print((1,2.3,1-3j,'This is an example of tuple'))"
   ]
  },
  {
   "cell_type": "code",
   "execution_count": 37,
   "id": "f2e6f7e5",
   "metadata": {},
   "outputs": [
    {
     "data": {
      "text/plain": [
       "tuple"
      ]
     },
     "execution_count": 37,
     "metadata": {},
     "output_type": "execute_result"
    }
   ],
   "source": [
    "type((1,2.3,1-3j,'This is an example of tuple'))"
   ]
  },
  {
   "cell_type": "markdown",
   "id": "bb40b056",
   "metadata": {},
   "source": [
    "**We can only access the items in a tuple but not change/replace**"
   ]
  },
  {
   "cell_type": "code",
   "execution_count": 38,
   "id": "6729897c",
   "metadata": {},
   "outputs": [
    {
     "name": "stdout",
     "output_type": "stream",
     "text": [
      "1\n"
     ]
    }
   ],
   "source": [
    "print((1,2.3,1-3j,'This is an example of tuple')[0])"
   ]
  },
  {
   "cell_type": "code",
   "execution_count": 39,
   "id": "f8d8450e",
   "metadata": {},
   "outputs": [
    {
     "name": "stdout",
     "output_type": "stream",
     "text": [
      "2.3\n"
     ]
    }
   ],
   "source": [
    "print((1,2.3,1-3j,'This is an example of tuple')[1])"
   ]
  },
  {
   "cell_type": "code",
   "execution_count": 40,
   "id": "209d5b8b",
   "metadata": {},
   "outputs": [
    {
     "name": "stdout",
     "output_type": "stream",
     "text": [
      "(1-3j)\n"
     ]
    }
   ],
   "source": [
    "print((1,2.3,1-3j,'This is an example of tuple')[2])"
   ]
  },
  {
   "cell_type": "code",
   "execution_count": 41,
   "id": "22bc97f2",
   "metadata": {},
   "outputs": [
    {
     "name": "stdout",
     "output_type": "stream",
     "text": [
      "This is an example of tuple\n"
     ]
    }
   ],
   "source": [
    "print((1,2.3,1-3j,'This is an example of tuple')[3])"
   ]
  },
  {
   "cell_type": "code",
   "execution_count": 42,
   "id": "db3a8d22",
   "metadata": {},
   "outputs": [
    {
     "name": "stdout",
     "output_type": "stream",
     "text": [
      "(1, 2.3)\n"
     ]
    }
   ],
   "source": [
    "print((1,2.3,1-3j,'This is an example of tuple')[0:2])"
   ]
  },
  {
   "cell_type": "code",
   "execution_count": 44,
   "id": "54ce0a1e",
   "metadata": {},
   "outputs": [
    {
     "name": "stdout",
     "output_type": "stream",
     "text": [
      "((1-3j), 'This is an example of tuple')\n"
     ]
    }
   ],
   "source": [
    "print((1,2.3,1-3j,'This is an example of tuple')[2:4])"
   ]
  },
  {
   "cell_type": "markdown",
   "id": "1cc1b8a3",
   "metadata": {},
   "source": [
    "## 5) Sets"
   ]
  },
  {
   "cell_type": "markdown",
   "id": "acfe2155",
   "metadata": {},
   "source": [
    "**A set is an unordered collection of items**\n",
    "\n",
    "**A set can contain only UNIQUE items means no repetition of the same element**\n",
    "\n",
    "**There is no indexing in Sets as all the items are unordered and are unique**\n",
    "\n",
    "**A set is MUTABLE means items cannot be changed**\n",
    "\n",
    "***A Set is identified/represented by curly braceks or braces { }***"
   ]
  },
  {
   "cell_type": "code",
   "execution_count": 46,
   "id": "7fa43ec8",
   "metadata": {},
   "outputs": [
    {
     "name": "stdout",
     "output_type": "stream",
     "text": [
      "{1.22, 2.3, 3, 'this is a set', (3+5j)}\n"
     ]
    }
   ],
   "source": [
    "print({3,1.22,2.3,3+5j, \"this is a set\"})"
   ]
  },
  {
   "cell_type": "markdown",
   "id": "6eb1eee8",
   "metadata": {},
   "source": [
    "****Note that our set of different items was unordered but Python knew that it's a set so it automatically ****"
   ]
  },
  {
   "cell_type": "code",
   "execution_count": 49,
   "id": "0961cbf4",
   "metadata": {},
   "outputs": [
    {
     "name": "stdout",
     "output_type": "stream",
     "text": [
      "{1, 3, 'This is an example of tuple', 9, 10, 11.11, 12.2, 12.3, 13.9, 15, -9, -8, -7, -6}\n"
     ]
    }
   ],
   "source": [
    "print({1,1,1,3,3,-6,-7,-8,-8,9,-9,10,11.11,12.2,12.3,15,13.9,'This is an example of tuple'})"
   ]
  },
  {
   "cell_type": "markdown",
   "id": "b4580266",
   "metadata": {},
   "source": [
    "**Note that we had repeated items in the above example but since it was a set, so Python automatically removed them**"
   ]
  },
  {
   "cell_type": "code",
   "execution_count": 51,
   "id": "04ee15e0",
   "metadata": {},
   "outputs": [
    {
     "name": "stderr",
     "output_type": "stream",
     "text": [
      "<>:1: SyntaxWarning: 'set' object is not subscriptable; perhaps you missed a comma?\n",
      "<>:1: SyntaxWarning: 'set' object is not subscriptable; perhaps you missed a comma?\n",
      "<ipython-input-51-2115c9127007>:1: SyntaxWarning: 'set' object is not subscriptable; perhaps you missed a comma?\n",
      "  print({1,2.3,1-3j,'There is no indexing in the SETS'}[0])\n"
     ]
    },
    {
     "ename": "TypeError",
     "evalue": "'set' object is not subscriptable",
     "output_type": "error",
     "traceback": [
      "\u001b[1;31m---------------------------------------------------------------------------\u001b[0m",
      "\u001b[1;31mTypeError\u001b[0m                                 Traceback (most recent call last)",
      "\u001b[1;32m<ipython-input-51-2115c9127007>\u001b[0m in \u001b[0;36m<module>\u001b[1;34m\u001b[0m\n\u001b[1;32m----> 1\u001b[1;33m \u001b[0mprint\u001b[0m\u001b[1;33m(\u001b[0m\u001b[1;33m{\u001b[0m\u001b[1;36m1\u001b[0m\u001b[1;33m,\u001b[0m\u001b[1;36m2.3\u001b[0m\u001b[1;33m,\u001b[0m\u001b[1;36m1\u001b[0m\u001b[1;33m-\u001b[0m\u001b[1;36m3j\u001b[0m\u001b[1;33m,\u001b[0m\u001b[1;34m'There is no indexing in the SETS'\u001b[0m\u001b[1;33m}\u001b[0m\u001b[1;33m[\u001b[0m\u001b[1;36m0\u001b[0m\u001b[1;33m]\u001b[0m\u001b[1;33m)\u001b[0m\u001b[1;33m\u001b[0m\u001b[1;33m\u001b[0m\u001b[0m\n\u001b[0m",
      "\u001b[1;31mTypeError\u001b[0m: 'set' object is not subscriptable"
     ]
    }
   ],
   "source": [
    "print({1,2.3,1-3j,'There is no indexing in the SETS'}[0])"
   ]
  },
  {
   "cell_type": "code",
   "execution_count": 54,
   "id": "07ab6765",
   "metadata": {},
   "outputs": [
    {
     "data": {
      "text/plain": [
       "set"
      ]
     },
     "execution_count": 54,
     "metadata": {},
     "output_type": "execute_result"
    }
   ],
   "source": [
    "type({1,2.3,1-3j,'There is no indexing in the SETS'})"
   ]
  },
  {
   "cell_type": "markdown",
   "id": "7f50ae3e",
   "metadata": {},
   "source": [
    "**In Python sets are represented by the class \"set\"**"
   ]
  },
  {
   "cell_type": "markdown",
   "id": "859fec03",
   "metadata": {},
   "source": [
    "## 6) Dictionary"
   ]
  },
  {
   "cell_type": "markdown",
   "id": "e7476706",
   "metadata": {},
   "source": [
    "*****Dictionary is a data type used to store values in key:value pairs*****\n",
    "\n",
    "****Dictionaries are ordered, changable and do not allow duplicates****\n",
    "\n",
    "* **Dictionaries are optimized to retrieve values when a key is known**\n",
    "* *In key:value, value is the actual information associated with a key, think of it as, items in your room are values, your door is the key and together we call it a room (dic)*\n",
    "\n",
    "    * ****things in your room are values****\n",
    "    * ****door of your room is the key****\n",
    "    * ****together they make a room which is a dictionary****\n",
    "    \n",
    "    \n",
    "*****Each key-value pair is separated by a 'colon :', whereas each key is separated by a 'comma ,'*****"
   ]
  },
  {
   "cell_type": "code",
   "execution_count": 55,
   "id": "09cee7e8",
   "metadata": {},
   "outputs": [
    {
     "name": "stdout",
     "output_type": "stream",
     "text": [
      "{1: 'Look', 2: 'closely', 3: 'You see the difference?'}\n"
     ]
    }
   ],
   "source": [
    "print({1:'Look', 2:'closely', 3:'You see the difference?'})"
   ]
  },
  {
   "cell_type": "markdown",
   "id": "77c8d3d1",
   "metadata": {},
   "source": [
    "**In above example 1,2, and 3 are the keys, while 'look', 'closely' and 'You see the difference?' are the values assosciated with these keys**"
   ]
  },
  {
   "cell_type": "markdown",
   "id": "070fff45",
   "metadata": {},
   "source": [
    "****To access an item in the list we look at their keys****"
   ]
  },
  {
   "cell_type": "code",
   "execution_count": 71,
   "id": "28280c5b",
   "metadata": {},
   "outputs": [
    {
     "name": "stdout",
     "output_type": "stream",
     "text": [
      "Look\n"
     ]
    }
   ],
   "source": [
    "dictt = {1:'Look', 2:'closely', 3:'You see the difference?'}\n",
    "print(dictt[1])"
   ]
  },
  {
   "cell_type": "code",
   "execution_count": 72,
   "id": "7efef65b",
   "metadata": {},
   "outputs": [
    {
     "name": "stdout",
     "output_type": "stream",
     "text": [
      "closely\n"
     ]
    }
   ],
   "source": [
    "print(dictt[2])"
   ]
  },
  {
   "cell_type": "code",
   "execution_count": 73,
   "id": "21369e87",
   "metadata": {},
   "outputs": [
    {
     "name": "stdout",
     "output_type": "stream",
     "text": [
      "You see the difference?\n"
     ]
    }
   ],
   "source": [
    "print(dictt[3])"
   ]
  },
  {
   "cell_type": "markdown",
   "id": "82d9c69a",
   "metadata": {},
   "source": [
    "**We cannot use values to access the key :p**"
   ]
  },
  {
   "cell_type": "code",
   "execution_count": 74,
   "id": "bb3895d4",
   "metadata": {},
   "outputs": [
    {
     "ename": "KeyError",
     "evalue": "'Look'",
     "output_type": "error",
     "traceback": [
      "\u001b[1;31m---------------------------------------------------------------------------\u001b[0m",
      "\u001b[1;31mKeyError\u001b[0m                                  Traceback (most recent call last)",
      "\u001b[1;32m<ipython-input-74-8deafc3462a3>\u001b[0m in \u001b[0;36m<module>\u001b[1;34m\u001b[0m\n\u001b[1;32m----> 1\u001b[1;33m \u001b[0mprint\u001b[0m\u001b[1;33m(\u001b[0m\u001b[0mdictt\u001b[0m\u001b[1;33m[\u001b[0m\u001b[1;34m'Look'\u001b[0m\u001b[1;33m]\u001b[0m\u001b[1;33m)\u001b[0m\u001b[1;33m\u001b[0m\u001b[1;33m\u001b[0m\u001b[0m\n\u001b[0m",
      "\u001b[1;31mKeyError\u001b[0m: 'Look'"
     ]
    }
   ],
   "source": [
    "print(dictt['Look'])"
   ]
  },
  {
   "cell_type": "markdown",
   "id": "154a694d",
   "metadata": {},
   "source": [
    "*****We can also update a dictionary with new items*****"
   ]
  },
  {
   "cell_type": "code",
   "execution_count": 75,
   "id": "c1586eb6",
   "metadata": {},
   "outputs": [
    {
     "name": "stdout",
     "output_type": "stream",
     "text": [
      "{1: 'Look', 2: 'closely', 3: 'You see the difference?', 4: 'New item'}\n"
     ]
    }
   ],
   "source": [
    "dictt[4] = 'New item'\n",
    "print(dictt)"
   ]
  },
  {
   "cell_type": "markdown",
   "id": "a9725190",
   "metadata": {},
   "source": [
    "****We can also replace an item from a dictionary with another item****"
   ]
  },
  {
   "cell_type": "code",
   "execution_count": 76,
   "id": "db34f764",
   "metadata": {},
   "outputs": [
    {
     "name": "stdout",
     "output_type": "stream",
     "text": [
      "{1: 'Look', 2: 'closely', 3: 'You see the difference?', 4: 'New item'}             This is before replacement\n",
      "{1: 'Look', 2: 'closely', 3: 'Replaced item', 4: 'New item'}             This is after replacement\n"
     ]
    }
   ],
   "source": [
    "print(dictt, '            This is before replacement')\n",
    "dictt[3] = 'Replaced item'\n",
    "print(dictt, '            This is after replacement')"
   ]
  },
  {
   "cell_type": "code",
   "execution_count": 79,
   "id": "30771dca",
   "metadata": {},
   "outputs": [
    {
     "ename": "TypeError",
     "evalue": "unhashable type: 'slice'",
     "output_type": "error",
     "traceback": [
      "\u001b[1;31m---------------------------------------------------------------------------\u001b[0m",
      "\u001b[1;31mTypeError\u001b[0m                                 Traceback (most recent call last)",
      "\u001b[1;32m<ipython-input-79-77a4a8c804e9>\u001b[0m in \u001b[0;36m<module>\u001b[1;34m\u001b[0m\n\u001b[1;32m----> 1\u001b[1;33m \u001b[0mprint\u001b[0m\u001b[1;33m(\u001b[0m\u001b[0mdictt\u001b[0m\u001b[1;33m[\u001b[0m\u001b[1;36m1\u001b[0m\u001b[1;33m:\u001b[0m\u001b[1;36m3\u001b[0m\u001b[1;33m]\u001b[0m\u001b[1;33m)\u001b[0m\u001b[1;33m\u001b[0m\u001b[1;33m\u001b[0m\u001b[0m\n\u001b[0m",
      "\u001b[1;31mTypeError\u001b[0m: unhashable type: 'slice'"
     ]
    }
   ],
   "source": [
    "print(dictt[1:3])"
   ]
  },
  {
   "cell_type": "markdown",
   "id": "8a09181d",
   "metadata": {},
   "source": [
    "***There is no slicing in the dictionaries as shown in the above example***"
   ]
  },
  {
   "cell_type": "code",
   "execution_count": 80,
   "id": "f95f2823",
   "metadata": {},
   "outputs": [
    {
     "data": {
      "text/plain": [
       "dict"
      ]
     },
     "execution_count": 80,
     "metadata": {},
     "output_type": "execute_result"
    }
   ],
   "source": [
    "type(dictt)"
   ]
  },
  {
   "cell_type": "markdown",
   "id": "d29d311d",
   "metadata": {},
   "source": [
    "****In Python the dictionaries are represented by the class 'dict'**** **as shown above**"
   ]
  }
 ],
 "metadata": {
  "kernelspec": {
   "display_name": "Python 3",
   "language": "python",
   "name": "python3"
  },
  "language_info": {
   "codemirror_mode": {
    "name": "ipython",
    "version": 3
   },
   "file_extension": ".py",
   "mimetype": "text/x-python",
   "name": "python",
   "nbconvert_exporter": "python",
   "pygments_lexer": "ipython3",
   "version": "3.8.8"
  }
 },
 "nbformat": 4,
 "nbformat_minor": 5
}
